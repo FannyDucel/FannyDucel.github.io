{
 "cells": [
  {
   "cell_type": "markdown",
   "id": "1e0cf2fb",
   "metadata": {},
   "source": [
    "# Python for Beginners -- TD 2"
   ]
  },
  {
   "cell_type": "markdown",
   "id": "79d231a9",
   "metadata": {},
   "source": [
    "[Karën Fort](https://members.loria.fr/KFort/) (CC BY-NC-SA) -- 2024\n",
    "\n",
    "Slightly modified by Fanny Ducel."
   ]
  },
  {
   "cell_type": "markdown",
   "id": "fcc4e4c5",
   "metadata": {},
   "source": [
    "Reminder (see [Intro](https://members.loria.fr/KFort/files/fichiers_cours/M1_Python4Beg_Intro_2024.pdf)):\n",
    "* work by **pairs**\n",
    "* **never the same pair**\n",
    "* the work should be finished in class (no homework)\n",
    "\n",
    "* your names should appear in the file name:\n",
    "    * TD0-FortMonir.ipynb (sometimes, it will be .py)\n",
    "\n",
    "* send your work to **your** teacher by email **at the end of the class**:\n",
    "    * fanny.ducel@inria.fr\n",
    "    * nasser-eddine.monir@inria.fr\n",
    "    \n",
    "Do not forget to (it's part of your grade):\n",
    "* comment your code (not everything, but the choices you make)\n",
    "* test the extreme values (add tests to your code, then comment them out, so that we can see them)\n",
    "\n",
    "You will see there are only two exercises but that are quite long, and for which you will need to be more autonomous than in previous sessions."
   ]
  },
  {
   "cell_type": "markdown",
   "id": "a9fa8ccd",
   "metadata": {},
   "source": [
    "## EX 1 -- Terry Pratchett and IQ"
   ]
  },
  {
   "cell_type": "markdown",
   "id": "d6d6b664",
   "metadata": {},
   "source": [
    "\\[By courtesy of [Jean-Christophe Bach](https://www.imt-atlantique.fr/fr/personne/jean-christophe-bach)\\]\n",
    "\n",
    "According to Terry Pratchett[<sup>1</sup>](#fn1), author of the Discworld:\n",
    "\n",
    "\"The IQ[<sup>2</sup>](#fn2) of a mob is the IQ of its most stupid member divided by the number of mobsters.\".\n",
    "\n",
    "Your goal here is to write a program that computes the IQ of a group following Terry Pratchett's method.\n",
    "\n",
    "The program will take inputs from a user (that they will enter as they go). The program must display the size of the group, the person with the lowest IQ (and its rank in the group), as well as the IQ of the group.\n",
    "\n",
    "An IQ can only be strictly positive, else we consider that this is the end of the group (hence 0 to stop entering the IQs).\n",
    "\n",
    "Here is an example of the expected execution of the program:\n",
    "\n",
    "***\n",
    "<font color=\"blue\">\n",
    "Enter the IQs of the group (0 to stop):\n",
    "\n",
    "Enter an IQ: 100\n",
    "\n",
    "Enter another IQ: 132\n",
    "    \n",
    "Enter another IQ: 90\n",
    "    \n",
    "Enter another IQ: 42\n",
    "    \n",
    "Enter another IQ: 0\n",
    "    \n",
    "This is the group. It is composed of 4 individuals. The person with the lowest IQ has an IQ of 42, it's individual \\#3. The IQ of the group is 10.5.\n",
    "</font>\n",
    "***\n",
    "\n",
    "Write the program allowing to compute this. The display should look like the one above. \n",
    "\n",
    "<span id=\"fn1\"> 1- [Wikipedia page](https://en.wikipedia.org/wiki/Terry_Pratchett)</span>\n",
    "\n",
    "<span id=\"fn2\"> 2- Intellectual Quotient. It is supposed to measure the intelligence of a person, but its definition, its computation and its usage are more than questionable.</span>\n"
   ]
  },
  {
   "cell_type": "code",
   "execution_count": null,
   "id": "835da990",
   "metadata": {},
   "outputs": [],
   "source": [
    "# CODE ME!"
   ]
  },
  {
   "cell_type": "markdown",
   "id": "9ffbe946",
   "metadata": {},
   "source": [
    "## Ex 2 -- Real data about the Olympics"
   ]
  },
  {
   "cell_type": "markdown",
   "id": "8ad6f3bc",
   "metadata": {},
   "source": [
    "I found a .csv (comma separated values) file with data about the Olympic games from 1896 to 2016. It contains 271,116 rows and 15 columns, it's real data to play with...\n",
    "\n",
    "Here is what is asked from you:\n",
    "* Download the file from [here](https://github.com/cstorm125/information_value/blob/master/data/120-years-of-olympic-history-athletes-and-results/athlete_events.csv) and put it **in the same directory as your notebook** (or be sure to give the right path to the file when you open it). \n",
    "* Read the documentation [here](https://www.kaggle.com/datasets/heesoo37/120-years-of-olympic-history-athletes-and-results).\n",
    "* Using the example provided below and the data from the file:\n",
    "    * draw a bar plot of the number of medals (all types) obtained by the following athletes:\n",
    "        * James Cleveland \"Jesse\" Owens\n",
    "        * Frederick Carlton \"Carl\" Lewis\n",
    "        * Usain St. Leo Bolt\n",
    "        * Delorez Florence Griffith Joyner\n",
    "        * Shelly-Ann Fraser-Pryce\n",
    "        * Irena Szewiska-Kirszenstein (this is not her real name, but there is a typo in the data)\n",
    "* Write some code to answer the following questions:\n",
    "    * create a file in which you'll print the names of all the Iranian athletes during the entire period (without duplicates)\n",
    "    * create a file in which you'll print the name of the women who gained medals in 1987 (without duplicates)\n",
    "\n",
    "\n"
   ]
  },
  {
   "cell_type": "code",
   "execution_count": 3,
   "id": "34e4f9b3",
   "metadata": {},
   "outputs": [
    {
     "data": {
      "image/png": "[encoded data removed]",
      "text/plain": [
       "<Figure size 432x288 with 1 Axes>"
      ]
     },
     "metadata": {
      "needs_background": "light"
     },
     "output_type": "display_data"
    }
   ],
   "source": [
    "# Correct me to draw a bar plot of the number of medals (all types) obtained by the athletes\n",
    "import matplotlib.pyplot as plt\n",
    "\n",
    "xs = [\"Karën\", \"Amandine\", \"Clémentine\", \"Fanny\"]   # a list of names that will be used as X axis\n",
    "ys = [10, 55, 66, 88]           # a list of nbs, corresponding to the xs list, to be used as Y axis\n",
    "\n",
    "plt.bar(xs, ys)\n",
    "plt.show()\n",
    "# Make sure to close the plt object once done\n",
    "plt.close()"
   ]
  },
  {
   "cell_type": "code",
   "execution_count": 6,
   "id": "8b81d6dd",
   "metadata": {},
   "outputs": [
    {
     "name": "stdout",
     "output_type": "stream",
     "text": [
      "Collecting pandas\n",
      "  Using cached pandas-2.2.2-cp311-cp311-manylinux_2_17_x86_64.manylinux2014_x86_64.whl.metadata (19 kB)\n",
      "Requirement already satisfied: numpy>=1.23.2 in /home/ducel/anaconda3/envs/rise/lib/python3.11/site-packages (from pandas) (2.1.1)\n",
      "Requirement already satisfied: python-dateutil>=2.8.2 in /home/ducel/anaconda3/envs/rise/lib/python3.11/site-packages (from pandas) (2.9.0.post0)\n",
      "Collecting pytz>=2020.1 (from pandas)\n",
      "  Downloading pytz-2024.2-py2.py3-none-any.whl.metadata (22 kB)\n",
      "Collecting tzdata>=2022.7 (from pandas)\n",
      "  Using cached tzdata-2024.1-py2.py3-none-any.whl.metadata (1.4 kB)\n",
      "Requirement already satisfied: six>=1.5 in /home/ducel/anaconda3/envs/rise/lib/python3.11/site-packages (from python-dateutil>=2.8.2->pandas) (1.16.0)\n",
      "Using cached pandas-2.2.2-cp311-cp311-manylinux_2_17_x86_64.manylinux2014_x86_64.whl (13.0 MB)\n",
      "Downloading pytz-2024.2-py2.py3-none-any.whl (508 kB)\n",
      "Using cached tzdata-2024.1-py2.py3-none-any.whl (345 kB)\n",
      "Installing collected packages: pytz, tzdata, pandas\n",
      "Successfully installed pandas-2.2.2 pytz-2024.2 tzdata-2024.1\n"
     ]
    }
   ],
   "source": [
    "!pip install pandas"
   ]
  },
  {
   "cell_type": "code",
   "execution_count": 6,
   "id": "804ffeaf",
   "metadata": {},
   "outputs": [],
   "source": [
    "# TODO create a file in which you'll print the names of all the Iranian athletes (without duplicates)"
   ]
  },
  {
   "cell_type": "code",
   "execution_count": 2,
   "id": "e3bdbe83",
   "metadata": {},
   "outputs": [],
   "source": [
    "# TODO create a file in which you'll print the name of the women who gained medals in 1987 (without duplicates)"
   ]
  }
 ],
 "metadata": {
  "kernelspec": {
   "display_name": "Python 3 (ipykernel)",
   "language": "python",
   "name": "python3"
  },
  "language_info": {
   "codemirror_mode": {
    "name": "ipython",
    "version": 3
   },
   "file_extension": ".py",
   "mimetype": "text/x-python",
   "name": "python",
   "nbconvert_exporter": "python",
   "pygments_lexer": "ipython3",
   "version": "3.11.9"
  }
 },
 "nbformat": 4,
 "nbformat_minor": 5
}
