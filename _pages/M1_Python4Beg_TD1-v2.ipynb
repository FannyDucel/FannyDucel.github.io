{
 "cells": [
  {
   "cell_type": "markdown",
   "id": "46dbbac1",
   "metadata": {},
   "source": [
    "# Python for Beginners -- TD 1"
   ]
  },
  {
   "cell_type": "markdown",
   "id": "9ee95255",
   "metadata": {},
   "source": [
    "[Karën Fort](https://members.loria.fr/KFort/) (CC BY-NC-SA) -- 2024\n",
    "\n",
    "\n",
    "Fanny Ducel made some changes on ex 4 and added exercices 5 and 6. These two exercises are from Hee-Soo Choi's labs. (https://hschoi4.github.io/teaching/)."
   ]
  },
  {
   "cell_type": "markdown",
   "id": "da8eafca",
   "metadata": {},
   "source": [
    "Reminder (see [Intro](https://members.loria.fr/KFort/files/fichiers_cours/M1_Python4Beg_Intro_2024.pdf)):\n",
    "* work by pairs (or alone)\n",
    "* never the same pair\n",
    "* the work should be finished in class (no homework)\n",
    "\n",
    "* your names should appear in the file name:\n",
    "    * TD0-FortMonir.ipynb (sometimes, it will be .py)\n",
    "\n",
    "* send your work to your teacher **by email at the end of the class**:\n",
    "    * fanny.ducel@inria.fr (karen.fort@loria.fr)\n",
    "    * nasser-eddine.monir@inria.fr\n",
    "    \n",
    "Do not forget to (it's part of your grade):\n",
    "* comment your code (not everything, but the choices you make)\n",
    "* test the extreme values (add tests to your code, then comment them out, so that we can see them)\n"
   ]
  },
  {
   "cell_type": "markdown",
   "id": "384b7528",
   "metadata": {},
   "source": [
    "## Ex 1 -- Dates"
   ]
  },
  {
   "cell_type": "markdown",
   "id": "0f063267",
   "metadata": {},
   "source": [
    "Dates have different formats in English (MM/DD/YY) and French (DD/MM/YY).\n",
    "\n",
    "Write a piece of code that asks for a date in the English format (exactly the one above), then ouputs the translation into French.\n",
    "\n",
    "You should not need more than `String` and loop to do so (no new structure)."
   ]
  },
  {
   "cell_type": "code",
   "execution_count": 6,
   "id": "6295fc31",
   "metadata": {},
   "outputs": [],
   "source": [
    "#TODO Code me!"
   ]
  },
  {
   "cell_type": "markdown",
   "id": "cb5cd98e",
   "metadata": {},
   "source": [
    "## Ex 2 -- A bad piece of code"
   ]
  },
  {
   "cell_type": "code",
   "execution_count": 10,
   "id": "4484406b",
   "metadata": {},
   "outputs": [
    {
     "ename": "TypeError",
     "evalue": "unsupported operand type(s) for +: 'int' and 'str'",
     "output_type": "error",
     "traceback": [
      "\u001b[0;31m---------------------------------------------------------------------------\u001b[0m",
      "\u001b[0;31mTypeError\u001b[0m                                 Traceback (most recent call last)",
      "\u001b[0;32m<ipython-input-10-fe2fad1721c4>\u001b[0m in \u001b[0;36m<module>\u001b[0;34m\u001b[0m\n\u001b[1;32m      6\u001b[0m \u001b[0;32mwhile\u001b[0m \u001b[0mmultiplier\u001b[0m \u001b[0;34m<=\u001b[0m \u001b[0;36m5\u001b[0m\u001b[0;34m:\u001b[0m\u001b[0;34m\u001b[0m\u001b[0;34m\u001b[0m\u001b[0m\n\u001b[1;32m      7\u001b[0m     \u001b[0mresult\u001b[0m \u001b[0;34m=\u001b[0m \u001b[0mnumber\u001b[0m \u001b[0;34m*\u001b[0m \u001b[0mmultiplier\u001b[0m\u001b[0;34m\u001b[0m\u001b[0;34m\u001b[0m\u001b[0m\n\u001b[0;32m----> 8\u001b[0;31m     \u001b[0mprint\u001b[0m\u001b[0;34m(\u001b[0m\u001b[0mnumber\u001b[0m \u001b[0;34m+\u001b[0m \u001b[0;34m\"x\"\u001b[0m \u001b[0;34m+\u001b[0m \u001b[0mmultiplier\u001b[0m \u001b[0;34m+\u001b[0m \u001b[0;34m\"=\"\u001b[0m \u001b[0;34m+\u001b[0m \u001b[0mresult\u001b[0m\u001b[0;34m)\u001b[0m\u001b[0;34m\u001b[0m\u001b[0;34m\u001b[0m\u001b[0m\n\u001b[0m",
      "\u001b[0;31mTypeError\u001b[0m: unsupported operand type(s) for +: 'int' and 'str'"
     ]
    }
   ],
   "source": [
    "# TODO Correct me and add comments to each line you correct explaining what you did\n",
    "# This code should output the 5 first results of the multiplication table for `number`\n",
    "\n",
    "multiplier = 0\n",
    "\n",
    "while multiplier <= 5:\n",
    "    result = number * multiplier \n",
    "    print(number + \"x\" + multiplier + \"=\" + result)"
   ]
  },
  {
   "cell_type": "markdown",
   "id": "2dce1786",
   "metadata": {},
   "source": [
    "## EX 3 -- Using the right pronoun"
   ]
  },
  {
   "cell_type": "markdown",
   "id": "8ce19e90",
   "metadata": {},
   "source": [
    "As said [here](https://www.verywellmind.com/a-guide-to-she-her-pronouns-7106796), \"Pronoun usage may feel important or unimportant to you personally, but on the whole, they are an important matter. That's because by using someone's correct pronouns, you validate their identity, whereas by using the wrong pronouns for someone, you may invalidate it.\" \n",
    "\n",
    "Still from the same source: \"Some pronouns are gendered, and some are not. The gendered pronouns are she/her and he/him.\\[...\\] Some pronouns are not gendered. They/them can be used for anyone when you do not know their pronouns, and those pronouns are also used by people for whom they fit best.\"\n",
    "\n",
    "Finally, somebody may declare mixed pronouns (she/their or he/their) to express the fact that they are gender-fluid.\n",
    "\n",
    "The only way to know how to properly address somebody is to ask for their pronouns. That is precisely what this exercice is about. You should write a program that: \n",
    "* asks the user about their pronouns: \n",
    "    * \"What are your pronouns?\"\n",
    "* if they already know about that, just ask them to confirm: \n",
    "    * \"so I should address you as \"she\"? (or he, or they)\n",
    "* but if they do not know about pronouns, walk them through the process: \n",
    "    * \"do you identify yourself as a man? a woman? or do you prefer not to be gendered?\"\n",
    "    * then, use their answer to generate their pronouns and propose them to them (this should be their choice, not yours) "
   ]
  },
  {
   "cell_type": "code",
   "execution_count": null,
   "id": "09fe4992",
   "metadata": {},
   "outputs": [],
   "source": [
    "# TODO Code me!"
   ]
  },
  {
   "cell_type": "markdown",
   "id": "7ad4695a",
   "metadata": {},
   "source": [
    "## EX 4 -- Crochet trouble\n",
    "\n",
    "We propose 2 versions of this exercise as we found that version 1 can be difficult to understand. Do try to read it and figure out the algorithm. If you can't figure it out after a few minutes, try and read version 2 (split in parts A and B).\n",
    "\n",
    "### Version 1 - with shifting"
   ]
  },
  {
   "cell_type": "markdown",
   "id": "693fc9fb",
   "metadata": {},
   "source": [
    "I've started crochet and I love it! However, I still struggle with some stuff like shifting (which ensures that your circles are really round). Please help me!\n",
    "\n",
    "Shifting only happens in even rounds. In these cases, instead of doing the usual \"x regular stiches, 1 increase\", I should do \"x/2 regular stiches, 1 increase\" at first, then \"x regular stiches, 1 increase\" and at the end again \"x/2 regular stiches\".\n",
    "\n",
    "I need you to write me a piece of code that tells me what I should do (some many regular stiches, so many times, then 1 increase, then ...\" for a certain max number of rounds.\n",
    "\n",
    "Let's say I knit 10 rounds (this is what's needed for this lavender pouch) in all. This gives us:\n",
    "\n",
    "* round 1: 7 regular stiches\n",
    "* round 2: 7 increases\n",
    "* round 3: 1 regular, then 1 increase, 7 times\n",
    "* round 4: 2 regulars, then 1 increase, 7 times (but then, it's an even one, so: 1 reg.+1 inc, then 2 reg.+1 inc x6, then 1 reg)\n",
    "* round 5: 3 regular, then 1 increase, 7 times\n",
    "* round 6: 4 regulars, then 1 increase, 7 times (but then, it's an even one, so: 2 reg.+1 inc, then 4 reg.+1 inc x6, then 2 reg)\n",
    "* etc. until round 10\n",
    "\n",
    "Note that the number 7 will not change (for our exercice)."
   ]
  },
  {
   "cell_type": "markdown",
   "id": "16bd954a",
   "metadata": {},
   "source": [
    "![The lavender pouch](lavenderPouch.jpeg)"
   ]
  },
  {
   "cell_type": "markdown",
   "id": "d9ff8d53",
   "metadata": {},
   "source": [
    "Example:\n",
    "\n",
    "***\n",
    "<font color=\"blue\">\n",
    "* What is your max number of rounds?\n",
    "\n",
    "* 6\n",
    "\n",
    "* Ok, you will need to do: \n",
    "    * round 1: 7 regular stiches\n",
    "    * round 2: 7 increases\n",
    "    * round 3: (1 regular, then 1 increase), 7 times\n",
    "    * round 4: 1 regular, then 1 increase, then (2 regular and 1 inc) x6, then 1 regular\n",
    "    * round 5: (3 regular, then 1 increase), 7 times\n",
    "    * round 6: 2 regular, then 1 increase, then (4 regular and 1 inc) x6, then 2 regular\n",
    "    \n",
    "</font>\n",
    "\n"
   ]
  },
  {
   "cell_type": "code",
   "execution_count": 7,
   "id": "2b34ca72",
   "metadata": {},
   "outputs": [],
   "source": [
    "#TODO Code me!"
   ]
  },
  {
   "cell_type": "markdown",
   "id": "7bdd3ad3",
   "metadata": {},
   "source": [
    "### Version 2 (if you find version 1 difficult to understand)\n",
    "\n",
    "As the previous instructions can be difficult to understand, we propose a second version. First, you can start by making a version without shifting. The algorithm is then the following:\n",
    "\n",
    "#### Part A - without shifting \n",
    "\n",
    "* round 1: 7 regular stitches\n",
    "* round 2: 7 increases\n",
    "* round 3: (1 regular stitch, 1 increase)*7\n",
    "* round 4: (2 regular stitches, 1 increase)*7\n",
    "* round 5: (3 regular stitches, 1 increase)*7\n",
    "* ...\n",
    "* round n: (n-2 regular stitches, 1 increase)*7\n",
    "\n",
    "In other words, rounds 1 and 2 are always the same, but then the number of regular stitches increases by 1 at every new round."
   ]
  },
  {
   "cell_type": "code",
   "execution_count": null,
   "id": "697f9552",
   "metadata": {},
   "outputs": [],
   "source": [
    "#TODO Code me!"
   ]
  },
  {
   "cell_type": "markdown",
   "id": "c780b52d",
   "metadata": {},
   "source": [
    "#### Part B - with shifting, worded differently\n",
    "\n",
    "Now, we can add shifting, but we will word it slightly differently:\n",
    "    \n",
    "* round 1: 7 regular stitches\n",
    "* round 2: 7 increases\n",
    "* round 3: (1 regular stitch, 1 increase)*7\n",
    "* round 4: (1 regular stitch, 1 increase, 1 regular stitch)*7\n",
    "* round 5: (3 regular stitches, 1 increase)*7\n",
    "* round 6: (2 regular stitches, 1 increase, 2 regular stitches)*7\n",
    "* round 7: (5 regular stitches, 1 increase)*7\n",
    "* round 8: (3 regular stitches, 1 increase, 3 regular stitches)*7\n",
    "\n",
    "As you can see, starting from round 3, every odd round has (n-2 regular stitches, 1 increase)x7 and every even round has (x regular stitches, 1 increase, x regular stitches) and this variable x is incremented (+1) for each even round."
   ]
  },
  {
   "cell_type": "code",
   "execution_count": null,
   "id": "df5e48bc",
   "metadata": {},
   "outputs": [],
   "source": [
    "#TODO Code me!"
   ]
  },
  {
   "cell_type": "markdown",
   "id": "062bfa42",
   "metadata": {},
   "source": [
    "# Additional exercises, in case you are done early. \n",
    "\n",
    "If you don't have time to complete these two exercises, it is completely fine, don't worry."
   ]
  },
  {
   "cell_type": "markdown",
   "id": "cdb2c074",
   "metadata": {},
   "source": [
    "## EX 5 -- Find the longest word\n",
    "\n",
    "### Ex 5.1. -- Two words at a time\n",
    "\n",
    "Write a piece of code that compares the lengths of two words and prints the longest one."
   ]
  },
  {
   "cell_type": "code",
   "execution_count": 1,
   "id": "c7bae14c",
   "metadata": {},
   "outputs": [],
   "source": [
    "#TODO Code me!"
   ]
  },
  {
   "cell_type": "markdown",
   "id": "452d4509",
   "metadata": {},
   "source": [
    "### Ex 5.2. -- Three words at a time\n",
    "\n",
    "Write a piece of code that compares the lengths of **three** words and prints the longest one. Use `and`!\n",
    "\n",
    "*Hint*: You may store the longest word in a variable (initialized as an empty string) and update it after each condition."
   ]
  },
  {
   "cell_type": "code",
   "execution_count": 2,
   "id": "f4a0fd96",
   "metadata": {},
   "outputs": [],
   "source": [
    "#TODO Code me!"
   ]
  },
  {
   "cell_type": "markdown",
   "id": "5de3f9b3",
   "metadata": {},
   "source": [
    "## Ex 6 -- FizzBuzz\n",
    "\n",
    "Write a piece of code that goes from 1 to x (ask the user for a number) and that:\n",
    "\n",
    "> - prints \"Fizz\" if the number is divisible by 3,\n",
    "\n",
    "> - prints \"Buzz\" if the number is divisible by 5,\n",
    "\n",
    "> - prints ”FizzBuzz” if the number is divisible by 3 and 5"
   ]
  },
  {
   "cell_type": "code",
   "execution_count": null,
   "id": "dfa9ae01",
   "metadata": {},
   "outputs": [],
   "source": [
    "#TODO Code me!"
   ]
  },
  {
   "cell_type": "markdown",
   "id": "7e126b80",
   "metadata": {},
   "source": [
    "### FizzBuzz, alternative version\n",
    "\n",
    "Instead of asking the user for a number, ask them if they want to continue after each iteration, and stop when they do not say \"yes\"."
   ]
  },
  {
   "cell_type": "code",
   "execution_count": null,
   "id": "6481c6d0",
   "metadata": {},
   "outputs": [],
   "source": [
    "#TODO Code me!"
   ]
  },
  {
   "cell_type": "markdown",
   "id": "3995602d",
   "metadata": {},
   "source": [
    "# Don't forget to send this file to your tutor by email at the end of the session!"
   ]
  }
 ],
 "metadata": {
  "kernelspec": {
   "display_name": "Python 3 (ipykernel)",
   "language": "python",
   "name": "python3"
  },
  "language_info": {
   "codemirror_mode": {
    "name": "ipython",
    "version": 3
   },
   "file_extension": ".py",
   "mimetype": "text/x-python",
   "name": "python",
   "nbconvert_exporter": "python",
   "pygments_lexer": "ipython3",
   "version": "3.11.5"
  }
 },
 "nbformat": 4,
 "nbformat_minor": 5
}
