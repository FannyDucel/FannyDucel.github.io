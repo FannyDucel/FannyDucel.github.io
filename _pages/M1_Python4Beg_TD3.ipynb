{
 "cells": [
  {
   "cell_type": "markdown",
   "id": "4a4862d1",
   "metadata": {},
   "source": [
    "# Python for Beginners -- TD 3"
   ]
  },
  {
   "cell_type": "markdown",
   "id": "05bc27e2",
   "metadata": {},
   "source": [
    "[Fanny Ducel](https://fannyducel.github.io/teaching/) (CC BY-NC-SA) -- 2024"
   ]
  },
  {
   "cell_type": "markdown",
   "id": "248267b5",
   "metadata": {},
   "source": [
    "Reminder (see [Intro](https://members.loria.fr/KFort/files/fichiers_cours/M1_Python4Beg_Intro_2024.pdf)):\n",
    "* work by pairs (or alone)\n",
    "* never the same pair\n",
    "* the work should be finished in class (no homework)\n",
    "\n",
    "* your names should appear in the file name:\n",
    "    * TD0-DucelMonir.ipynb (sometimes, it will be .py)\n",
    "\n",
    "* send your work to your teacher by email at the end of the class:\n",
    "    * fanny.ducel@inria.fr\n",
    "    * nasser-eddine.monir@inria.fr\n",
    "    \n",
    "Do not forget to (it's part of your grade):\n",
    "* comment your code (not everything, but the choices you make)\n",
    "* test the extreme values (add tests to your code, then comment them out, so that we can see them)"
   ]
  },
  {
   "cell_type": "markdown",
   "id": "4d750caa",
   "metadata": {},
   "source": [
    "# Introduction\n",
    "\n",
    "For this week's lab, you will have 6 different exercises to do, all related to a same file. However, exercises 5 and 6 are optional, so it is totally okay if you don't have time to complete them.\n",
    "\n",
    "Further, the exercises are quite independent from one another, so if you're stuck on one, you can skip it and come back to it later (except for ex 5 and 6, that will require you to be done with previous exercises). "
   ]
  },
  {
   "cell_type": "markdown",
   "id": "72434293",
   "metadata": {},
   "source": [
    "## Ex 1 - Let's have a look at a transcription file\n",
    "\n",
    "For this week's lab, we will work with a \".trn\" file: SBC055.trn (found on: https://www.linguistics.ucsb.edu/sites/secure.lsit.ucsb.edu.ling.d7/files/sitefiles/research/SBC/SBC055.trn).\n",
    "\n",
    "It is a transcription from an audio recording, so it has some specificities. Let's have a first look at it and create some functions to get some statistics on what's inside.\n"
   ]
  },
  {
   "cell_type": "markdown",
   "id": "818694eb",
   "metadata": {},
   "source": [
    "### 1) Print the vocabulary = all the words of the file, without duplicates"
   ]
  },
  {
   "cell_type": "code",
   "execution_count": null,
   "id": "66b80104",
   "metadata": {},
   "outputs": [],
   "source": [
    "# TODO!"
   ]
  },
  {
   "cell_type": "markdown",
   "id": "a196036e",
   "metadata": {},
   "source": [
    "You will notice that there are lots of number (= timestamps) and other unwanted characters (they represent linguistic/phonetic information that we don't need for this lab). Don't worry, we will take care of these in ex 2."
   ]
  },
  {
   "cell_type": "markdown",
   "id": "09248628",
   "metadata": {},
   "source": [
    "### 2) Create a function that returns the number of words present in the file. It should return both the number of total words and the number of unique words (= no duplicates!)\n",
    "\n",
    "Optional: You could also create a first function to read the file (that takes the path of the file as input and returns a string with what is inside the file as output), and use it inside the function that returns numbers of words. If you create it, you can re-use for next exercises as well!"
   ]
  },
  {
   "cell_type": "code",
   "execution_count": null,
   "id": "6231fcd6",
   "metadata": {},
   "outputs": [],
   "source": [
    "# TODO!"
   ]
  },
  {
   "cell_type": "markdown",
   "id": "c738838a",
   "metadata": {},
   "source": [
    "### 3) Create a dictionary to see the vocabulary\n",
    "\n",
    "Example:\n",
    "`{'good': 6, 'and': 55, ...}`\n",
    "\n",
    "It indicates that the word 'good' is in the text 6 times, the word 'and' is in the text 55 times, ..."
   ]
  },
  {
   "cell_type": "code",
   "execution_count": null,
   "id": "cf9fde7e",
   "metadata": {},
   "outputs": [],
   "source": [
    "# TODO!"
   ]
  },
  {
   "cell_type": "markdown",
   "id": "01e3052a",
   "metadata": {},
   "source": [
    "### 4) Create a function that looks for a word and returns the number of times it is present in the file (the word we look for should be a parameter of the function). \n",
    "\n",
    "Example:\n",
    "`count_word(\"good\", transcription)` returns 6"
   ]
  },
  {
   "cell_type": "code",
   "execution_count": null,
   "id": "ee998009",
   "metadata": {},
   "outputs": [],
   "source": [
    "# TODO!"
   ]
  },
  {
   "cell_type": "markdown",
   "id": "0534d233",
   "metadata": {},
   "source": [
    "## Ex 2 - Let's \"clean\" the file! \n",
    "\n",
    "As you probably noticed in ex 1, the file has unwanted information (= a lot of characters/numbers we don't need for this lab, but that are useful for linguists who work on oral language). \n",
    "\n",
    "For this exercise, you don't have to code, I did the job for you! However, I want you to try and understand my code in depth. Pay special attention to the lines with a #TODO, and write additional comments to explain what is going on (what the specific line of code does, how/why it works, what would happen if we remove it).\n",
    "\n",
    "Even if you are not writing code for this exercise, please focus. Knowing how to read someone else's code is a fundamental skill as you will often have to work with other people, or to use other people's code for your own work."
   ]
  },
  {
   "cell_type": "code",
   "execution_count": 2,
   "id": "3e387fb1",
   "metadata": {},
   "outputs": [],
   "source": [
    "with open(\"SBC055.trn\") as f:\n",
    "    # read by line (so that it's clearer)\n",
    "    file = f.readlines()\n",
    "    \n",
    "# Make a big list of all the cleaned lines\n",
    "cleaned_file = []\n",
    "\n",
    "for line in file:\n",
    "    # timestamps, speaker and utterances are separated by tabs, so we use the tabulation character \\t and split\n",
    "    # to only keep the speaker's name and what they say\n",
    "    cleaned_line = line.split(\"\\t\")[-2:]\n",
    "    \n",
    "    # We remove the non-alphabetical characters that we don't need in the utterances\n",
    "    for char in [\".\", \"\\n\", \"[\", \"]\", \"@\", \"%\", \"<\", \">\", \"(\", \")\", \"=\", \"2\", \"3\"]:\n",
    "        cleaned_line[1] = cleaned_line[1].replace(char, \"\")\n",
    "    \n",
    "    # if the speaker's name is empty, we don't keep the empty string\n",
    "    # Exercise: Try and understand these lines of code (explain it on the following line)\n",
    "    # TODO: your explanation on how it is accomplished (understand the syntax) here\n",
    "    if not cleaned_line[0]:\n",
    "        cleaned_line.pop(0)\n",
    "    \n",
    "    # If there's no speaker's name, we add the utterance to the previous list (with the person's name)\n",
    "    # Exercise: Try and understand these lines of code (explain it on the following line)\n",
    "    # TODO: your explanation on how it is accomplished (understand the syntax) here\n",
    "    if len(cleaned_line) < 2:\n",
    "        cleaned_file[-1][-1] += \" \" +cleaned_line[0]\n",
    "\n",
    "    else:\n",
    "        #TODO: What does this line do? What happens if you remove it?\n",
    "        if cleaned_line[1]:\n",
    "            cleaned_file.append(cleaned_line)"
   ]
  },
  {
   "cell_type": "code",
   "execution_count": 3,
   "id": "d9f1b2ee",
   "metadata": {},
   "outputs": [
    {
     "data": {
      "text/plain": [
       "[['MANY:', 'APPLAUSE'],\n",
       " ['PERROT:',\n",
       "  \" Good afternoon ladies and gentlemen Hx,  It's uh,  truly a historic occasion  today,  to have  among us,  a citizen who has contributed so much,  not only to this  entire area,  but t- to the world of ceramics,  and also to the world of literature,  and been part ,\"],\n",
       " ['PERROT:',\n",
       "  'of one of the great  artistic movements,  which  revolutionized,  the way  art was considered,  and which today still has,  extraordinary resonance,  in the work  of younger artists,  who are  rediscovering,  something that was discovered,  at the v- -- almost at the beginning of this century,  and with which  Miss Wood,  was so intimately involved'],\n",
       " ['WOOD:', ' P XXX P?'],\n",
       " ['PERROT:', ' To have  the Mother  of Dada  with us,'],\n",
       " ['MANY:', 'LAUGHTER_AND_APPLAUSE'],\n",
       " ['WOOD:', \"X Let's keep X XX, Is this it\"],\n",
       " ['PERROT:',\n",
       "  \"is in  deed a pleasure N- now, I would like to  hold forth, but  I don't think I'm going to be allowed to\"],\n",
       " ['MANY:', ' LAUGHTER'],\n",
       " ['PERROT:', 'So,'],\n",
       " ['PERROT:', 'Beatrice ,  it is yours Hx'],\n",
       " ['WOOD:', 'H Is  my voice alright'],\n",
       " ['MANY:', ' MURMURS_AND_APPLAUSE'],\n",
       " ['WOOD:',\n",
       "  \"Like this alright H Now, referring to that period, H just mentioned H  It all  touched me,  by the name  no No is the most dangerous H word H in the English language H  And,  it has absolutely  changed my life  H For instance,  H  I was brought up,  very carefully,  I was a good little girl  And I was in great X revolt X  My mother saw that I had a governess, H that I went to private schools, H and I was in --  I didn't like this at all  H Now, H  one day,  I met Elisa  A journalist H She knew writers, she knew artists, H she lived a bohemian life, H and I was very  attracted And interested H So I invited her  to home,  for luncheon  H After she left, my mother said to me,  VOX she's common VOX\"],\n",
       " ['MANY:', ' LAUGHTER'],\n",
       " ['WOOD:',\n",
       "  \"That  hurt me  H  That was first  no  H Alright, So the next time,  I went to see her,  TSK H  and,  she had a little apartment in Greenwich Village, and she said,  TSK H there's a  young musician, of twenty-six H Who's broken his leg, he's French, he's very lonely, H you speak French, so go see him  H So , I went to see him in the hospital, H and it was  Varese, the musician of the avant-garde H music, H and, the second time I went to call on him, H Marcel  Duchamp  was there H The great painter, H  of The Nude Descending the Staircase  Alright H Marcel Duchamp, introduced me, H to, Henri-Pierre Roche  H  Roche was a  collector  of art, H and  a diplomat, H uh sent by the French government, very correct, H he called on my parents twice, H  and after he left,  my mother said,  VOX you're in love with that man You shouldn't see him again VOX\"],\n",
       " ['MANY:', 'LAUGHTER'],\n",
       " ['WOOD:', \"I didn't know whether I was or not,\"],\n",
       " ['WOOD:', 'but I was attracted  Alright  That was her  second  no'],\n",
       " ['MANY:', 'LAUGHTER '],\n",
       " ['WOOD:',\n",
       "  \"H So, very politely, he called a third time,  H and I said, oh  I was at the phone, H I'll come to see you  H He said, oh no, I just have a little apartment in Greenwich Village, H it's nothing at all, I said oh that's alright, H I don't mind, he said, H no no no, it's -- H It's not -- It's not attractive H I said look  I'm  shopping just around the corner,\"],\n",
       " ['MANY:', 'LAUGHTER'],\n",
       " ['WOOD:', 'I see you get the point'],\n",
       " ['AUD:', ' '],\n",
       " ['MANY:', 'LAUGHTER'],\n",
       " ['WOOD:', 'It was a lie, if I ever said one'],\n",
       " ['MANY:', 'LAUGHTER'],\n",
       " ['WOOD:',\n",
       "  \"TSK So, I um,  m-  decided, and I went to see him  H And I entered his  very simple little room, I looked around it, H and I remembered there were very coarse curtains, and the H sun shone through them, H made them like gold, H and I stood in his room,  and he was very nice gentlemanly man, H he didn't quite know what to do, so he came, H and he stood opposite me, and looked at me, H  And, I saw a painting on his  wall, and I saw, H a  glass of water on the table, H  and,  he wasn't saying anything H  So, finally I  looked at him, and I said,  VOX aren't you going to show me your  etchings VOX?\"],\n",
       " ['MANY:', 'LAUGHTER'],\n",
       " ['WOOD:', 'From that time on, I was never H a good little girl'],\n",
       " ['MANY:', 'LAUGHTER_AND_APPLAUSE'],\n",
       " ['WOOD:',\n",
       "  \"That, it was the kind of life H I wanted  H He,  uh,   he , and Duchamp, introduced me to the Arensbergs, H and I met all the great artists of that day, and had a wonderful H time H I was just I think twenty-two, going on twenty-three, H so,  I was of age And my mother couldn't say anything\"],\n",
       " ['MANY:', 'LAUGHTER'],\n",
       " ['WOOD:',\n",
       "  \"TSK H Now,  I'm very  international,  in feeling  H I've traveled quite a good deal,  and, to me as I travel, H people  are the same  everywhere  H And in spite of having  this feeling for the whole world  H  I love that I'm a Californian, H I --\"],\n",
       " ['MANY:', 'LAUGHTER'],\n",
       " ['WOOD:',\n",
       "  \"I was born in San Francisco, H and one of the reasons I love California so much, H  is,  that it's kinky H And --\"],\n",
       " ['MANY:', 'LAUGHTER'],\n",
       " ['WOOD:',\n",
       "  \"But this is very important Because, new ideas,  come up because it's kinky  And,  it's just wonderful, the   marvelous new ideas that come up H And of course, what I  like about  America,  because, in spite of being  very international in my feeling, H I think ours, is a wonderful country H  We're quick in friendship We are  open to new ideas H We  made, we presented many  new inventions  But,  and this is very serious  H Our,  um,  TSK H uh,  athletes,  H our actors , are getting millions  H And our teachers,  are being cut down H And our libraries , are being closed  MRC This is very very serious MRC, H it's putting a block  on knowledge, H China, and other Middle East country- -- Not H other Middle East but ,  Middle East countries and China, H and other countries ,  H are realizing the importance of education H And going after it  H And we,  are cutting down In that direction H And it worries me a great deal H Now  TSK H  One of the wonders of America,  TSK however,  H TSK in spite of the bad things,  H several years ago, Tony Prieto, H uh,  who taught ceramics,  I think at Mills College, he and his wife, H  went to Europe  To learn And we he rela- -turned, he said, H MRC Europe shares nothing MRC  America shares H And because America shares , our craft movement H Has grown so wonderfully  H We're doing wonderfully inventive things in craft H Uh, I have been very fortunate myself, I'm not naturally a craftsman, H but, I've had  four  very wonderful craftsmen, H to help me, H uh Lukens at USC, H the Natzlers, Otto and Gertrud Natzler, great potters, H when they first came to America, Gertrud Natzler, H would sit by me at the wheel, H and help me  try, H to see what throwing was about, H then, my colleagues in Ojai, Vivika and Otto Heino, H they've been so generous, they're teachers, H they pass down everything, they've helped me,  H and uh,  I remember Toshiko H Takaezu, her name's so hard for me to say, H was visiting me, H she spent a day and a half helping me, H  center on the wheel H MRC All this sharing MRC H In our schools Amongst craftsman themselves H Is a wonderful thing H So the movements go on H  And of course ,  our museums   Are so  important H I don't know,  if military  minded people,  PAR hope nobody from the FBI is here PAR,\"],\n",
       " ['MANY:', 'LAUGHTER'],\n",
       " ['WOOD:',\n",
       "  \"If our military people-, if uh, realize,  the importance of museums, H MRC museums protect all the great art MRC H The great invention H The creative efforts of man from the beginning of time  H And,  they're our inspiration, H and I think our museums are doing wonderfully now, even though, H we're beginning to cut down on education  H  I uh,  I feel,  about the importance, H  of craft  Of bringing  beauty  Craft into life  TSK H One day  I said to Vivika Heino  Because I'm a snob about art Ever since a child, I've been dragged, H through the museums of Europe, and America, and my eyes are exposed to H great art H So I said,  VOX you know VOX,  it's a mistake,  to teach,    cr-  pottery,  in high school  The students haven't time to make anything beautiful and important  And Vivika Heino so wisely answered, H  that is not the purpose H It opens them  To aesthetics  H And that's what right education does  H Now, H I wonder  We have  a tremendous  population in prison  And it's growing, we can hardly  house them  Why  We put the cart before the horse  We put people in prison  Why  Because they have MRC not had right education MRC in the beginning  H And right  education, is the basis H  of everything  H Now ha- I'll  end with one other H  idea, and then you can ask me questions, and that is this  H  Since there is an Olympic  of athletes  H  Why not have an Olympic,  of ethnic and tribal dancers, H from  countries all over the world H Then people could come, H and meet, they'd have beautiful costumes, H friendships would be made, H and,  I don't think we can have peace,  just with guns H Peace comes through friendship H And friendships would be made, H with all these dancers intermingling H And even dancing with each other  Because,  when you touch,  you don't shoot\"],\n",
       " ['MANY:', ' LAUGHTER APPLAUSE'],\n",
       " ['WOOD:',\n",
       "  ' And ,  I base this , on a little experience of my own, H when I was in, H uh  uh Ojai As a sweet young thing H I would go dancing at the art center I knew all kinds of square dancing, folk dancing, H nobody cared,  who we were dancing with, if it was the rich rancher, H or, H a man taking care of trash,  nobody cared H As long as he was a good dancer H And after,'],\n",
       " ['WOOD:',\n",
       "  'every month, H we had a party And  all of us, H mixed together in friendship H That  is wonderful H And, something like this could happen H If we had great dances H So,  I come back, my last  word is,  violence,  never ends,  with violence  And right education,  is the basis,  of everything'],\n",
       " ['MANY:', ' APPLAUSE'],\n",
       " ['PERROT:',\n",
       "  ' Well, I do hope that there is someone from the FBI here, to relay this message,'],\n",
       " ['PERROT:', ' to the State Department'],\n",
       " ['MANY:', 'LAUGHTER'],\n",
       " ['PERROT:', 'Because if the State Depart- --'],\n",
       " ['WOOD:', 'X Okay X?'],\n",
       " ['PERROT:',\n",
       "  ' F I  hope that there is someone from the FBI here, so that they could tell it to the State Department F'],\n",
       " ['WOOD:', 'H '],\n",
       " ['MANY:', 'LAUGHTER_AND_APPLAUSE'],\n",
       " ['WOOD:', '  H '],\n",
       " ['PERROT:',\n",
       "  'Miss Wood asked me to  inform everyone, that her hearing was rather  difficult, at the moment, H and so, uh, I will have to speak very loud, and clearly, so so- she can hear what I say'],\n",
       " ['WOOD:',\n",
       "  \"Yes, I'm very hard  of hearing  Age There's no getting around it,\"],\n",
       " ['MANY:', 'LAUGHTER'],\n",
       " ['WOOD:', 'so, Mister Perrot will take questions'],\n",
       " ['PERROT:',\n",
       "  \"So, if you will ask your questions clearly, and please don't make them too long, s- -- because I might forget,  the beginning, by the time I reach the end,\"],\n",
       " ['MANY:', 'LAUGHTER'],\n",
       " ['PERROT:',\n",
       "  'Uh, then, I will relay them to Miss Wood  And,  uh, as far as I know, there are no restrictions, on any questions, that you could ask'],\n",
       " ['MANY:', 'LAUGHTER'],\n",
       " ['PERROT:', ' Who would like --  Yes'],\n",
       " ['AUD:',\n",
       "  ' Beatrice  when did you first get,  uh,  into a living relationship in Paris With all those wonderful artists At what age'],\n",
       " ['PERROT:',\n",
       "  'W- w- F when did you get into a living relationship, with those p-  artists in Paris,  at what  age F'],\n",
       " ['WOOD:', ' With artists in Paris'],\n",
       " ['PERROT:', 'Yes'],\n",
       " ['WOOD:',\n",
       "  \" H  Um, I went to study  art in Paris H A little bit  H  But I  really didn't  meet  any answers, and to  answer your question the way I think you would like it answered,\"],\n",
       " ['MANY:', 'LAUGHTER '],\n",
       " ['WOOD:', 'I was twenty-three  In New York'],\n",
       " ['AUD:', ' '],\n",
       " ['WOOD:', ' Mhm'],\n",
       " ['MANY:', 'LAUGHTER'],\n",
       " ['PERROT:', '   '],\n",
       " ['WOOD:', \"And, it was my mother's no\"],\n",
       " ['MANY:', 'LAUGHTER'],\n",
       " ['WOOD:',\n",
       "  'That, I was so,   really, b- b-  bothered  By her remarks  That I just broke loose And went,  in the direction I wanted  She wanted, a different direction  Social life  Have me married to a  stock broker'],\n",
       " ['AUD:', 'X Oh X'],\n",
       " ['MANY:', ' LAUGHTER'],\n",
       " ['WOOD:', \"I wouldn't be here, I would've murdered him\"],\n",
       " ['MANY:', 'LAUGHTER_AND_APPLAUSE   '],\n",
       " ['WOOD:', 'I say this, in spite of not believing in violence'],\n",
       " ['MANY:', 'LAUGHTER'],\n",
       " ['WOOD:',\n",
       "  \"My whole life changed H And I think I was very lucky Because,  H    three --   oh four friends, did so much, H to  help my education H Marcel Duchamp, Roche, H the collectors, the Walter Arensebergs, H and then,  my old schoolmate, Elizabeth Reynolds Hapgood  H Hapgood was co-, was uh  editor of Collier's, H a  close friend of President Wilson,  and Elizabeth herself, H spoke Russian H So she knew, this was years and years ago, before even any of your grandmothers were alive\"],\n",
       " ['MANY:', 'LAUGHTER'],\n",
       " ['WOOD:',\n",
       "  ' H Uh,  , it was uh,  uh, she knew all the Russian ambassadors, H Pavlova, Nijinsky, H uh, H Isadora Duncan,  all those people H I met through my own schoolmate, H Elizabeth  Hapgood  So I have been  very  lucky'],\n",
       " ['PERROT:', ' Another question Hx?'],\n",
       " ['WOOD:', \" You fear I'll tell the truth\"],\n",
       " ['MANY:', ' LAUGHTER44'],\n",
       " ['PERROT:', 'Bravo'],\n",
       " ['WOOD:', ' H 4 H4'],\n",
       " ['PERROT:', 'Nothing but'],\n",
       " ['AUD:',\n",
       "  'How was your relationship with your mother, after you  broke away from her'],\n",
       " ['PERROT:',\n",
       "  ' F How was your relationship with your mother, after you broke away from her F'],\n",
       " ['WOOD:',\n",
       "  \" H Um,  I broke away, I was acting then In the French theatre  H   --  I wasn't really,  too interested, in the stage H   But, in those early years,  I thought it was the only way I could earn money  H And I threatened my mother to run away,  H so she said, if you really mean that, I'll take you to Paris H And you can study under the Comedie-,  Comedie Francaise H Because she thought, H that if I  acted in French, H  it was safer Than if I acted,\"],\n",
       " ['MANY:', 'LAUGHTER'],\n",
       " ['WOOD:',\n",
       "  ' in America So,  I,    uh, H  I was acting in the French theatre,  X then I X -- I was the ingenue, H I spoke perfect French, had beautiful clothes, H uh,  for two years, I think I did over sixty parts H But I want to MRC act in English MRC  H And my good friend, Elizabeth Hapgood On account of Russian,  and knowing, H so many  people in the theatre   I got many parts offered me, and my mother said, H VOX No  You get leading lady, or nothing VOX'],\n",
       " ['MANY:', 'LAUGHTER'],\n",
       " ['WOOD:',\n",
       "  \"Now,  part of me was really, H a good little girl Part of me, H so I was very  subdued H And, my spirit was being broken Because she'd say, no  No H You can't do that, you can't do that  H And then,  a woman came from Canada  H And said, will you come up for three weeks  To Canada,  and act in the theatre there H  On salary  And I said yes  And that's, H when I broke,   with my home  And, my mother,  had a nervous breakdown for two days, and my father said,  VOX you're killing your mother VOX  and I said,  VOX she's killing me VOX  And I'm the younger, and I have a right to live\"],\n",
       " ['MANY:', ' APPLAUSE'],\n",
       " ['WOOD:',\n",
       "  \"And I'll always, And I'll always, let you know,  where I am H Now, I should say something nice about my mother\"],\n",
       " ['MANY:', 'LAUGHTER'],\n",
       " ['WOOD:',\n",
       "  \"She was beautiful,  and very generous, H but she was in a way of thinking, you know, H we didn't have radio, we didn't have television, life wasn't H as open as it is now H And, any mother,  would want, a protected,  social life for their daughter  Probably  H Now,\"],\n",
       " ['MANY:', 'LAUGHTER'],\n",
       " ['WOOD:',\n",
       "  \" when she died, in  thirty-six  I had left home then, oh, for quite a few years  TSK H The last three months of her life we became friends H And she let go  Of all that kind of  thing That didn't interest me, and she was very wonderful uh, H and open, H and the last day of her life, she was dying of cancer, she was, H conscious, she knew she was going that night, H we joked about it, H and, she said, now Tomorrow, H I understand there's a wonderful exhibition, H don't tell any of the others, H but go see it She knew she wouldn't be here then, H she was just wonderful H So I'm very happy to be say -- H To s-  be able to say, H we became friends  At the end  Mhm\"],\n",
       " ['MANY:', 'APPLAUSE'],\n",
       " ['PERROT:', ' Yes, in the back'],\n",
       " ['AUD:',\n",
       "  'Can you expand, uh, just a bit, about your  thoughts on uh,  bringing art to the prisons'],\n",
       " ['PERROT:',\n",
       "  ' F Could you explain, a little bit, about bringing  art to the prisons  Your thoughts, about bringing art,  to the prisons F'],\n",
       " ['WOOD:',\n",
       "  \" I think it'd be wonderful  Uh,  I've always been,  concerned about people being H in prison, H  but I really don't know,  very much,  I just think it's a terrible thing  That we have so many, in prison  And I'm sure,  we could s-,  what is called save the lives,  of endless people, if they had a creative  outlet H But what is a  young person to do  H  Brought up,  not knowing in any way right from wrong, no compassion, H seeing bing bing bing, H  guns used all the time, no money, H drugs,  why should they not steal  H  Now,  I don't know if this has any value, it's personal    TSK H  When I left home, I made a very unhappy marriage,  in name only H But the man, it was a disaster And I was, for quite a few years, H MRC without any money MRC  And I mean, H I sold w- my own books, H to get money to eat I know what it is, H to be, at zero  I was not trained for the world H I didn't know,  how  to relate H  to the world H But uh, once a week, I always went back to see my parents  H and, they never said  anything They never blamed me From that time on H My mother said,   she always had a very good, H uh, luncheon for me H Suspecting, that I was hungry  And I was H One day she said, H go up  to my room, H and get some information out of my purse H  I went there, I opened her purse, it was full  of money\"],\n",
       " ['MANY:', 'LAUGHTER'],\n",
       " ['WOOD:',\n",
       "  \" And,  I had the impulse to take some  I knew she wouldn't care,   she probably sent me up almost to  take some  H And I stood  And then something in me said,  no  That is MRC not  the way  to live MRC  And I didn't take it  Now, this is just a very poor little example  H  But,  when you have  no education, when you haven't read, H I'd read a great deal Of very fine books, H also a lot of trash H  But I'd enjoyed readings\"],\n",
       " ['MANY:', 'LAUGHTER'],\n",
       " ['WOOD:',\n",
       "  \"Now, you have no guide, when you're a young person H Why shouldn't you steal, why shouldn't you shoot H Why shouldn't you go to prison H But look  what we're paying  for people in prison, H instead of putting this,  into education H You see, I feel,  our  culture,  MRC misses the first  sell MRC  Which I come back I say, is right education H And of course,   from what I know, I've never had children, H so I say this with apology, H but I understand,  that it's vital  MRC For women to love their infants MRC To cuddle their infants H And from what I've read, H all criminals, all abnormal people, H it's because they've never been loved as young-,  H  youngsters\"],\n",
       " ['PERROT:', ' Yes'],\n",
       " ['AUD:', 'APPLAUSE'],\n",
       " ['AUD_2:',\n",
       "  'I would like to,  hear something about, how she came to be called,  the Mother of Dada'],\n",
       " ['PERROT:', ' F How did you become the Mother of Dada F ']]"
      ]
     },
     "execution_count": 3,
     "metadata": {},
     "output_type": "execute_result"
    }
   ],
   "source": [
    "cleaned_file"
   ]
  },
  {
   "cell_type": "markdown",
   "id": "12281227",
   "metadata": {},
   "source": [
    "## Ex 3 - Turn it into a function!\n",
    "\n",
    "Paste the code from exercise 2 and turn it into a function. \n",
    "\n",
    "You should choose how to call your function, what parameters are required (if any) and what it should return. Also write the documentation for the function."
   ]
  },
  {
   "cell_type": "code",
   "execution_count": null,
   "id": "01958d13",
   "metadata": {},
   "outputs": [],
   "source": [
    "# TODO"
   ]
  },
  {
   "cell_type": "markdown",
   "id": "584079d3",
   "metadata": {},
   "source": [
    "## Ex 4 - Who said what?\n",
    "\n",
    "As we work with a transcription file, there are different speakers, each producing many utterances. We want to use this information to try and see who said what, and who spoke the most.\n",
    "\n",
    "In order to do that, we will create a dictionary. It should contain what each person said. So the keys will be the speakers' names, and the values will be a list of utterances.\n",
    "\n",
    "Work from the output produced by exercise 3 (or exercise 2, as the outputs should be the same for both exercises) and create this dictionary!\n",
    "\n",
    "Example: \n",
    "```\n",
    "{'Student_A': ['I have a question',\n",
    "               'Okay, thank you',\n",
    "               \"I don't understand ex 4\"],\n",
    " 'Student_B': [\"I'm tired\", 'Let me help you'],\n",
    " 'Teacher': ['Hello', \"Let's work\"]}\n",
    "```"
   ]
  },
  {
   "cell_type": "code",
   "execution_count": null,
   "id": "3d7755a5",
   "metadata": {},
   "outputs": [],
   "source": [
    "# TODO"
   ]
  },
  {
   "cell_type": "markdown",
   "id": "879d2c71",
   "metadata": {},
   "source": [
    "#### Don't forget to answer the question: who spoke the most? \n",
    "\n",
    "Use the dictionary you just created to find the answer!\n",
    "\n",
    "If you couldn't do it, just create a dictionary manually with the name of the speakers and random utterances."
   ]
  },
  {
   "cell_type": "code",
   "execution_count": null,
   "id": "1127ad77",
   "metadata": {},
   "outputs": [],
   "source": [
    "# TODO"
   ]
  },
  {
   "cell_type": "markdown",
   "id": "e6e2b253",
   "metadata": {},
   "source": [
    "## Ex 5 - Compare this transcription to another one!\n",
    "\n",
    "Choose another transcription file from https://www.linguistics.ucsb.edu/research/santa-barbara-corpus and download it (choose the \"TRN\" file!).\n",
    "    \n",
    "Run all the functions from previous exercises to compare the transcriptions. What differences can you observe? (Time to use your linguistics skills!)"
   ]
  },
  {
   "cell_type": "code",
   "execution_count": null,
   "id": "f9fe944f",
   "metadata": {},
   "outputs": [],
   "source": [
    "# TODO"
   ]
  },
  {
   "cell_type": "markdown",
   "id": "11ef9797",
   "metadata": {},
   "source": [
    "## Ex 6 - Visualize your data\n",
    "\n",
    "Use the results from previous exercises to create some plots and visualize your results. You can decide what data you want to visualize. \n",
    "\n",
    "For example, you could plot the number of words from SBC055 and the number of words from the file you chose in ex 5 to compare the lexical diversity.\n",
    "\n",
    "If you didn't do ex 5, you could plot the number of total words vs. unique words to see how lexically rich the utterances are. You could also plot the number of utterances per speaker, to give a more visualize answer to the question \"Who speaks the most?\" from ex 4."
   ]
  },
  {
   "cell_type": "code",
   "execution_count": null,
   "id": "aff664d8",
   "metadata": {},
   "outputs": [],
   "source": [
    "# TODO\n",
    "\n",
    "# Example of how to use matplotlib (from TD2)\n",
    "import matplotlib.pyplot as plt\n",
    "\n",
    "xs = [\"Karën\", \"Amandine\", \"Clémentine\", \"Fanny\"]   # a list of names that will be used as X axis\n",
    "ys = [10, 55, 66, 88]           # a list of nbs, corresponding to the xs list, to be used as Y axis\n",
    "\n",
    "plt.bar(xs, ys)\n",
    "plt.show()\n",
    "# Make sure to close the plt object once done\n",
    "plt.close()"
   ]
  }
 ],
 "metadata": {
  "celltoolbar": "Format de la Cellule Texte Brut",
  "kernelspec": {
   "display_name": "Python 3 (ipykernel)",
   "language": "python",
   "name": "python3"
  },
  "language_info": {
   "codemirror_mode": {
    "name": "ipython",
    "version": 3
   },
   "file_extension": ".py",
   "mimetype": "text/x-python",
   "name": "python",
   "nbconvert_exporter": "python",
   "pygments_lexer": "ipython3",
   "version": "3.11.9"
  }
 },
 "nbformat": 4,
 "nbformat_minor": 5
}
