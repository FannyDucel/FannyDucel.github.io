{
 "cells": [
  {
   "cell_type": "markdown",
   "metadata": {},
   "source": [
    "# Python for Beginners - Recap - TD4\n",
    "\n",
    "[Nasser-eddine Monir](https://nasseredd.github.io) (CC BY-NC-SA) -- 2024\n",
    "\n",
    "* 👥 You may work in pairs,\n",
    "* 📩 however, submit your work individually by the end of the class.\n",
    "* 📖 You may begin with any section of your choice.\n",
    "* <span style=\"color:#F0B815;\">★</span> The stars indicate the difficulty level, ranging from <span style=\"color:#F0B815;\">★</span> (easiest) to <span style=\"color:#F0B815;\">★★★★</span> (most challenging).\n",
    "* 📝 Your names should be included in the file names as follows:\n",
    "    * **TD4-DucelMonir.ipynb**\n",
    "    * **congnitive_biases_DM.txt**\n",
    "* 📧 Make sure to email your work to your Assistant Professor using one of the following addresses:\n",
    "    * fanny.ducel@inria.fr\n",
    "    * nasser-eddine.monir@inria.fr"
   ]
  },
  {
   "cell_type": "markdown",
   "metadata": {},
   "source": [
    "## First Steps"
   ]
  },
  {
   "cell_type": "markdown",
   "metadata": {},
   "source": [
    "### Exercise 1 <span style=\"color:#F0B815;\">★</span>\n",
    "\n",
    "Write a program that prints the sentence `'Hello, World!'`."
   ]
  },
  {
   "cell_type": "code",
   "execution_count": 3,
   "metadata": {},
   "outputs": [],
   "source": [
    "# TODO: code me!"
   ]
  },
  {
   "cell_type": "markdown",
   "metadata": {},
   "source": [
    "### Exercise 2 <span style=\"color:#F0B815;\">★</span>\n",
    "\n",
    "Write a program that prints the number `87` and the string ```\"87\"``` on separate lines."
   ]
  },
  {
   "cell_type": "code",
   "execution_count": 6,
   "metadata": {},
   "outputs": [],
   "source": [
    "# TODO: print 87\n",
    "# TODO: print \"87\""
   ]
  },
  {
   "cell_type": "markdown",
   "metadata": {},
   "source": [
    "## Operations"
   ]
  },
  {
   "cell_type": "markdown",
   "metadata": {},
   "source": [
    "### Exercise 3 <span style=\"color:#F0B815;\">★</span>\n",
    "\n",
    "Write a program that prints:\n",
    "- the sum of 3 and 4.\n",
    "- the result of substracting 2 from 10.\n",
    "- the product (multiplication) of 7 by 8.\n",
    "- the quotient of 32 divided by 16."
   ]
  },
  {
   "cell_type": "code",
   "execution_count": 1,
   "metadata": {},
   "outputs": [],
   "source": [
    "# TODO: the sum of 3 and 4.\n",
    "# TODO: the result of substracting 2 from 10.\n",
    "# TODO: the product (multiplication) of 7 by 8.\n",
    "# TODO: the quotient of 32 divided by 16."
   ]
  },
  {
   "cell_type": "markdown",
   "metadata": {},
   "source": [
    "### Exercise 4 <span style=\"color:#F0B815;\">★</span>\n",
    "\n",
    "Write a program that calculates and prints\n",
    "- the square of 12.\n",
    "- the cube of 7."
   ]
  },
  {
   "cell_type": "code",
   "execution_count": null,
   "metadata": {},
   "outputs": [],
   "source": [
    "# TODO: the square of 12.\n",
    "# TODO: the cube of 7."
   ]
  },
  {
   "cell_type": "markdown",
   "metadata": {},
   "source": [
    "### Exercise 5 <span style=\"color:#F0B815;\">★★</span>\n",
    "\n",
    "Write a program that performs floor division between 15 and 4, and prints the result.\n",
    "\n",
    "🗒️ Note: The **floor division** is the integer part of the quotient. For example, consider 7 divided by 2, which equals 3.5. The quotient is 3.5, and its integer part is 3."
   ]
  },
  {
   "cell_type": "code",
   "execution_count": null,
   "metadata": {},
   "outputs": [],
   "source": [
    "# TODO: code me!"
   ]
  },
  {
   "cell_type": "markdown",
   "metadata": {},
   "source": [
    "### Exercise 6 <span style=\"color:#F0B815;\">★★</span>\n",
    "\n",
    "Write a program that computes the remainder of the division between 15 and 4, and prints the result.\n",
    "\n",
    "🗒️ Note: The **remainder** is the part left over after dividing one number by another when the division does not result in an integer. For example, consider 7 divided by 2. The quotient is 3, and the **remainder** is 1, since $7=2×3+1$."
   ]
  },
  {
   "cell_type": "code",
   "execution_count": null,
   "metadata": {},
   "outputs": [],
   "source": [
    "# TODO: code me!"
   ]
  },
  {
   "cell_type": "markdown",
   "metadata": {},
   "source": [
    "### Exercise 7 <span style=\"color:#F0B815;\">★★</span>\n",
    "\n",
    "You have 98 eggs 🥚🐓. Write a program that calculates how many dozens (12 eggs) you have and how many eggs remain. Print each result of each operation on a separate line."
   ]
  },
  {
   "cell_type": "code",
   "execution_count": null,
   "metadata": {},
   "outputs": [],
   "source": [
    "# TODO: how many dozens (12 eggs)\n",
    "# TODO: how many eggs remain"
   ]
  },
  {
   "cell_type": "markdown",
   "metadata": {},
   "source": [
    "### Exercise 8 <span style=\"color:#F0B815;\">★★</span>\n",
    "\n",
    "You have 145 candies 🍬🍭 to distribute equally among 8 children 👦👧. Write a program that calculates and prints how many candies each child gets and how many are left over. Print the result of each operation on a separate line."
   ]
  },
  {
   "cell_type": "code",
   "execution_count": null,
   "metadata": {},
   "outputs": [],
   "source": [
    "# TODO: how many candies each child gets\n",
    "# TODO: how many are left over"
   ]
  },
  {
   "cell_type": "markdown",
   "metadata": {},
   "source": [
    "### Exercise 9 <span style=\"color:#F0B815;\">★★★</span>\n",
    "\n",
    "Write a program that computes and prints the tens place and ones place of the number `57` using `//` and `%`.\n",
    "\n",
    "🗒️ Note: The **tens** place of a number indicates how many complete sets of ten are in the number (e.g., the tens place of `63` is `6`). The **ones** place represents the remaining units after the tens are accounted for (e.g., the ones place of `63` is `3`)."
   ]
  },
  {
   "cell_type": "code",
   "execution_count": null,
   "metadata": {},
   "outputs": [],
   "source": [
    "# TODO: code me!"
   ]
  },
  {
   "cell_type": "markdown",
   "metadata": {},
   "source": [
    "### Exercise 10 <span style=\"color:#F0B815;\">★★★★</span>\n",
    "\n",
    "Write a program that calculates the sum of the digits in the number `357` using `//` and `%`.\n",
    "\n",
    "💡 Hint: 3+5+7 = 15"
   ]
  },
  {
   "cell_type": "code",
   "execution_count": null,
   "metadata": {},
   "outputs": [],
   "source": [
    "# TODO: code me!"
   ]
  },
  {
   "cell_type": "markdown",
   "metadata": {},
   "source": [
    "## Variables\n",
    "\n",
    "A variable in Python is a container for storing data values. It acts as a label for data, making it easy to reference and manipulate. \n",
    "\n",
    "Example:\n",
    "```python\n",
    "x = 5\n",
    "y = \"Hello\"\n",
    "```"
   ]
  },
  {
   "cell_type": "markdown",
   "metadata": {},
   "source": [
    "### Exercise 11 <span style=\"color:#F0B815;\">★</span>\n",
    "\n",
    "Write a program to declare the following variables:\n",
    "- `age` with the value `25`\n",
    "- `price` with the value `19.99`\n",
    "- `name` with the value `Alice`\n",
    "- `is_raining` with the value `False`\n",
    "\n",
    "Each variable on a separate line."
   ]
  },
  {
   "cell_type": "code",
   "execution_count": null,
   "metadata": {},
   "outputs": [],
   "source": [
    "# TODO: `age` with the value `25`\n",
    "# TODO: `price` with the value `19.99`\n",
    "# TODO: `name` with the value `Alice`\n",
    "# TODO: `is_raining` with the value `False`"
   ]
  },
  {
   "cell_type": "markdown",
   "metadata": {},
   "source": [
    "### Exercise 12 <span style=\"color:#F0B815;\">★</span>\n",
    "\n",
    "Copy the code of the previous exercise (ex11) and write a program that prints the type of each variable. \n",
    "\n",
    "💡 Hint: Use the `type()` function!"
   ]
  },
  {
   "cell_type": "code",
   "execution_count": null,
   "metadata": {},
   "outputs": [],
   "source": [
    "# TODO: the type of the variable `age`\n",
    "# TODO: the type of the variable `price`\n",
    "# TODO: the type of the variable `name`\n",
    "# TODO: the type of the variable `is_raining`"
   ]
  },
  {
   "cell_type": "markdown",
   "metadata": {},
   "source": [
    "### Exercise 13 <span style=\"color:#F0B815;\">★</span>\n",
    "\n",
    "Declare two integers `a` equal to 10 and `b` equal to 20. Assign their sum to the variable `addition` and their product to the variable `product`. Print the sum and product variables. "
   ]
  },
  {
   "cell_type": "code",
   "execution_count": null,
   "metadata": {},
   "outputs": [],
   "source": [
    "# TODO: `a` equal to 10\n",
    "# TODO: `b` equal to 20\n",
    "# TODO: Assign their sum to the variable `addition`\n",
    "# TODO: Assign their product to the variable `product`\n",
    "# TODO: print the sum \n",
    "# TODO: print the product"
   ]
  },
  {
   "cell_type": "markdown",
   "metadata": {},
   "source": [
    "## Operations and Variables"
   ]
  },
  {
   "cell_type": "markdown",
   "metadata": {},
   "source": [
    "### Exercise 14 <span style=\"color:#F0B815;\">★</span>\n",
    "\n",
    "Write a program that checks if \n",
    "* `7` is greater than `5`, assigns the result to the variable `result_1` and prints it.\n",
    "* `20` is lower than `10`, assigns the result to the variable `result_2` and prints it.\n",
    "* `8` is equal to `2`, assigns the result to the variable `result_3` and prints it.\n",
    "\n",
    "⚠️ Warning: you don’t need to use conditions (if/elif/else)!"
   ]
  },
  {
   "cell_type": "code",
   "execution_count": 4,
   "metadata": {},
   "outputs": [],
   "source": [
    "# TODO: `7` is greater than `5`, assigns the result to the variable `result_1`\n",
    "# TODO: print the resut\n",
    "\n",
    "# TODO: `20` is lower than `10`, assigns the result to the variable `result_2`\n",
    "# TODO: print the resut\n",
    "\n",
    "# TODO: `8` is equal to `2`, assigns the result to the variable `result_3`.\n",
    "# TODO: print the resut"
   ]
  },
  {
   "cell_type": "markdown",
   "metadata": {},
   "source": [
    "### Exercise 15 <span style=\"color:#F0B815;\">★★</span>\n",
    "\n",
    "Write a program that:\n",
    "- Declares three variables `x`, `y`, and `z` equal respectively to `10`, `11`, and `12`.\n",
    "- Computes the average and assigns the result to a variable named `average`.\n",
    "- Prints the average.\n",
    "\n",
    "🚀 From now, you can include comments yourself 💪"
   ]
  },
  {
   "cell_type": "code",
   "execution_count": 5,
   "metadata": {},
   "outputs": [],
   "source": [
    "# TODO: code me!"
   ]
  },
  {
   "cell_type": "markdown",
   "metadata": {},
   "source": [
    "### Exercise 16 <span style=\"color:#F0B815;\">★★</span>\n",
    "\n",
    "Write a program that computes the simple interest as follows:\n",
    "- Declare three variables `principal`, `rate`, and `time` equal respectively to `1000`, `5.0`, and `3`.\n",
    "- Compute the simple interest and assign the result to a variable named `interest`.\n",
    "- Print the simple interest.\n",
    "\n",
    "🗒️ Note: the simple interest can be calculated as follows $Interest = \\frac{P \\times R \\times T}{100}$"
   ]
  },
  {
   "cell_type": "code",
   "execution_count": null,
   "metadata": {},
   "outputs": [],
   "source": [
    "# TODO: code me!"
   ]
  },
  {
   "cell_type": "markdown",
   "metadata": {},
   "source": [
    "### Exercise 17 <span style=\"color:#F0B815;\">★★</span>\n",
    "\n",
    "Declare a float variable `radius` equal to `5.0` and a float variable `pi` equal to `3.14`. <br/>\n",
    "Then, compute the `area` of a circle using the formula $\\pi r^2$. <br/>\n",
    "Finally, print the area."
   ]
  },
  {
   "cell_type": "code",
   "execution_count": null,
   "metadata": {},
   "outputs": [],
   "source": [
    "# TODO: code me!"
   ]
  },
  {
   "cell_type": "markdown",
   "metadata": {},
   "source": [
    "### Exercise 18 <span style=\"color:#F0B815;\">★★★</span>\n",
    "\n",
    "Write a program that \n",
    "* declares an integer `x` equal to `10`\n",
    "* prints `True` if `x` is equal to the operation `5 * 2`, `False` if it’s not."
   ]
  },
  {
   "cell_type": "code",
   "execution_count": null,
   "metadata": {},
   "outputs": [],
   "source": [
    "# TODO: code me!"
   ]
  },
  {
   "cell_type": "markdown",
   "metadata": {},
   "source": [
    "## Inputs and Casting\n",
    "\n",
    "**Input**\n",
    "***\n",
    "In Python, the `input()` function is used to take input from the user. It always returns the input as a **string** by default, which means even if the user types a number, it will be treated as a string.\n",
    "\n",
    "Example:\n",
    "```python\n",
    "    name = input(\"Enter your name: \")\n",
    "    print(\"Hello! My name is\", name)\n",
    "```\n",
    "\n",
    "**Casting**\n",
    "***\n",
    "Casting is the process of converting one data type to another. Python has several built-in functions for casting, such as `int()`, `float()`, and `str()`. This is often needed when the input is captured as a string but you want to work with it as a different type (e.g., an integer or float).\n",
    "\n",
    "```python\n",
    "    # Cast a float to an integer\n",
    "    float_num = 5.67\n",
    "    int_num = int(float_num)  # Result: 5 (decimal part is discarded)\n",
    "    print(int_num)\n",
    "\n",
    "    # Cast a string to an integer\n",
    "    str_num = \"123\"\n",
    "    int_num = int(str_num)  # Result: 123\n",
    "    print(int_num)\n",
    "```"
   ]
  },
  {
   "cell_type": "markdown",
   "metadata": {},
   "source": [
    "### Exercise 19 <span style=\"color:#F0B815;\">★</span>\n",
    "\n",
    "Write a program that asks the user for their favorite color and stores it in a variable named `color`. <br/>\n",
    "Then, print a message saying \"`Your favorite color is <color>.`\""
   ]
  },
  {
   "cell_type": "code",
   "execution_count": null,
   "metadata": {},
   "outputs": [],
   "source": [
    "# TODO: code me!"
   ]
  },
  {
   "cell_type": "markdown",
   "metadata": {},
   "source": [
    "### Exercise 20 <span style=\"color:#F0B815;\">★★</span>\n",
    "\n",
    "Write a Python program that \n",
    "- asks the user for two numbers and stores them in variables `num1` and `num2` as <span style=\"color:red;\">floats</span>. \n",
    "- compute the sum of the two number `num1` and `num2` and stores the result in a variable named `sum_numbers`\n",
    "- print a message saying `\"The sum is <sum>\"`\n",
    "\n",
    "💡 Hint: for the first task, combine two function!"
   ]
  },
  {
   "cell_type": "code",
   "execution_count": null,
   "metadata": {},
   "outputs": [],
   "source": [
    "# TODO: code me!"
   ]
  },
  {
   "cell_type": "markdown",
   "metadata": {},
   "source": [
    "## Strings\n",
    "\n",
    "Don't forget to use the [documentation](https://docs.python.org/3/library/stdtypes.html#text-sequence-type-str) about strings"
   ]
  },
  {
   "cell_type": "markdown",
   "metadata": {},
   "source": [
    "### Exercise 21 <span style=\"color:#F0B815;\">★</span>\n",
    "\n",
    "Write a program that: \n",
    "* takes a string input from the user and stores it in a variable named `message`.\n",
    "* prints the string in lowercase.\n",
    "* prints the lenght of the string (number of characters). \n",
    "\n",
    "💡 Hint: Make sure to store the user's input in a variable so that you can print it later. I won't be repeating that 😉"
   ]
  },
  {
   "cell_type": "code",
   "execution_count": null,
   "metadata": {},
   "outputs": [],
   "source": [
    "# TODO: code me!"
   ]
  },
  {
   "cell_type": "markdown",
   "metadata": {},
   "source": [
    "### Exercise 22 <span style=\"color:#F0B815;\">★</span>\n",
    "\n",
    "Write a program that:\n",
    "* stores the string `\"disk space critically low! please free up space immediately.\"` in a variable named `error_message`\n",
    "* prints the string in uppercase."
   ]
  },
  {
   "cell_type": "code",
   "execution_count": null,
   "metadata": {},
   "outputs": [],
   "source": [
    "# TODO: code me!"
   ]
  },
  {
   "cell_type": "markdown",
   "metadata": {},
   "source": [
    "### Exercise 23 <span style=\"color:#F0B815;\">★★</span>\n",
    "\n",
    "Modify the code to capitalize the first letter of each first name.\n",
    "\n",
    "🚨 Warning: change only the line with the comment bellow: \n",
    "```python \n",
    "    # TODO: modify me!\n",
    "```"
   ]
  },
  {
   "cell_type": "code",
   "execution_count": 13,
   "metadata": {},
   "outputs": [],
   "source": [
    "firstnames = ['louis', 'doha', 'kouakou', 'elma', 'melina']\n",
    "\n",
    "for firstname in firstnames:\n",
    "    print(firstname) # TODO: modify me!"
   ]
  },
  {
   "cell_type": "markdown",
   "metadata": {},
   "source": [
    "### Exercise 24 <span style=\"color:#F0B815;\">★★</span>\n",
    "\n",
    "Write a code that capitalizes the first letter of each word of the title of the paper bellow. After transforming it, print the result.\n",
    "\n",
    "From `\"efficient methods for natural language processing: a survey\"` to `\"Efficient Methods For Natural Language Processing: A Survey\"`"
   ]
  },
  {
   "cell_type": "code",
   "execution_count": null,
   "metadata": {},
   "outputs": [],
   "source": [
    "paper_title = \"efficient methods for natural language processing: a survey\"\n",
    "# TODO: code me!"
   ]
  },
  {
   "cell_type": "markdown",
   "metadata": {},
   "source": [
    "### Exercise 25 <span style=\"color:#F0B815;\">★★</span>\n",
    "\n",
    "Write a code that: \n",
    "* removes any leading or trailing whitespace from the `sentence_1` and print the result(1).\n",
    "* replace the word `\"semantics\"` by the word `\"morphology\"` in the `sentence_2` and print the result (2).\n",
    "* counts the number of occurrences of the letter 'e' in the `sentence_3` and print the result(3)."
   ]
  },
  {
   "cell_type": "code",
   "execution_count": null,
   "metadata": {},
   "outputs": [],
   "source": [
    "# removes any leading or trailing whitespace from the `sentence_1` (1).\n",
    "sentence_1 = \"    Phonetics is the study of the sounds of human speech.    \"\n",
    "# TODO: code me!\n",
    "\n",
    "# replace the word `\"semantics\"` by the word `\"morphology\"` in the `sentence_2` (2).\n",
    "sentence_2 = \"In semantics, we analyze how words are formed from smaller units called morphemes.\"\n",
    "# TODO: code me!\n",
    "\n",
    "sentence_3 = \"Pragmatics deals with how context influences the interpretation of meaning.\"\n",
    "# TODO: code me!"
   ]
  },
  {
   "cell_type": "markdown",
   "metadata": {},
   "source": [
    "### Exercise 26 <span style=\"color:#F0B815;\">★★</span>\n",
    "\n",
    "Modify the code below (`None, None, None`) to verify each word in the text whether it contains only alphabetic characters, only digits, or a combination of both.\n",
    "\n",
    "🤔 Run the code as it is to understand the structure and the output before modifying anything. \n",
    "\n",
    "🚨 Warning: Only modify the `print()` function!"
   ]
  },
  {
   "cell_type": "code",
   "execution_count": 18,
   "metadata": {},
   "outputs": [],
   "source": [
    "text = \"In 2024, psychology examines 3 cognitive biases, 5 memory stages, and 7 emotional responses—fascinating, right?\"\n",
    "\n",
    "print(\"Word, Alphabetic, Digits, AlphaNumeric\")\n",
    "for word in text.split():\n",
    "    print(word, None, None, None) # TODO: modify me!"
   ]
  },
  {
   "cell_type": "markdown",
   "metadata": {},
   "source": [
    "### Exercise 27 <span style=\"color:#F0B815;\">★★</span>\n",
    "\n",
    "Modify the code below (`None`) to check if the word `\"how\"` is present in each sentence from the list provided below.\n",
    "\n",
    "🤔 Run the code as it is to understand the structure and the output before modifying anything. \n",
    "\n",
    "🚨 Warning: Only modify the `print()` function!"
   ]
  },
  {
   "cell_type": "code",
   "execution_count": 20,
   "metadata": {},
   "outputs": [
    {
     "name": "stdout",
     "output_type": "stream",
     "text": [
      "sentence 1 None\n",
      "sentence 2 None\n",
      "sentence 3 None\n"
     ]
    }
   ],
   "source": [
    "sentences = [\n",
    "    \"The study of how children acquire language reveals fascinating insights into the universal principles that govern all human languages.\",\n",
    "    \"Linguists often analyze regional dialects to understand how historical migrations and social interactions shape language evolution.\",\n",
    "    \"Understanding the structure of syntax in different languages helps computational models perform better in tasks like machine translation and text generation.\",\n",
    "]\n",
    "\n",
    "for i, sentence in enumerate(sentences):\n",
    "    print(f\"sentence {i+1}\", None) # TODO: modify me!"
   ]
  },
  {
   "cell_type": "markdown",
   "metadata": {},
   "source": [
    "### Exercise 28 <span style=\"color:#F0B815;\">★★</span>\n",
    "\n",
    "Assign a code to the variable `n_counts` so that it accurately counts how many times each `letter` of the `alphabet` appears in the `sentence`. "
   ]
  },
  {
   "cell_type": "code",
   "execution_count": null,
   "metadata": {},
   "outputs": [],
   "source": [
    "sentence = \"Understanding cognitive biases helps psychologists explain how people make irrational decisions despite having logical options.\"\n",
    "alphabet = \"abcdefghijklmnopqrstuvwxyz\"\n",
    "\n",
    "for letter in alphabet:\n",
    "    n_counts = # TODO: code me! \n",
    "    print(f\"There are {n_counts+1} occurrences of '{letter}' in the sentence.\")"
   ]
  },
  {
   "cell_type": "markdown",
   "metadata": {},
   "source": [
    "### Exercise 29 <span style=\"color:#F0B815;\">★</span>\n",
    "\n",
    "Write a program that takes two string inputs from the user and prints them concatenated together using `\"+\"`."
   ]
  },
  {
   "cell_type": "code",
   "execution_count": null,
   "metadata": {},
   "outputs": [],
   "source": [
    "# TODO: code me!"
   ]
  },
  {
   "cell_type": "markdown",
   "metadata": {},
   "source": [
    "### Exercise 30 <span style=\"color:#F0B815;\">★★</span>\n",
    "\n",
    "🗒️ String formatting\n",
    "***\n",
    "Before diving into the exercise, let's introduce the idea that in Python, there are several ways to construct the same string. \n",
    "\n",
    "For instance, if we have three string variables:\n",
    "```python\n",
    "word1 = \"Coding\"\n",
    "word2 = \"is\"\n",
    "word3 = \"great\"\n",
    "```\n",
    "\n",
    "We can print the sentence `\"Coding is great` using the following three methods (among others): \n",
    "\n",
    "```python\n",
    "print(word1, word2, word3)   # using commas (which automatically adds spaces)\n",
    "print(word1 + \" \" + word2 + \" \" + word3)  # using concatenation (manually adding spaces)\n",
    "print(f\"{word1} {word2} {word3}\") # using f-string formatting (embedding variables directly in a string)\n",
    "```\n",
    "\n",
    "\n",
    "<br/>🐍 Let's start the exercise now! \n",
    "***\n",
    "Convert the two following strings (in the print function) where f-strings into regular string concatenation with commas and vice versa."
   ]
  },
  {
   "cell_type": "code",
   "execution_count": null,
   "metadata": {},
   "outputs": [],
   "source": [
    "name = \"Louis\"\n",
    "age = 25\n",
    "city = \"Nancy\"\n",
    "country = \"France\"\n",
    "\n",
    "print(\"My name is\", name, \"and I am\", age, \"years old.\") # TODO: convert to an f-string! \n",
    "print(f\"{name} is from {city}, but he does not live in {country}!\") # TODO: convert to string using commas!"
   ]
  },
  {
   "cell_type": "markdown",
   "metadata": {},
   "source": [
    "### Exercise 31 <span style=\"color:#F0B815;\">★★</span>\n",
    "\n",
    "🗒️ String slicing\n",
    "***\n",
    "String slicing is a way to extract a portion (or a \"slice\") of a string. The general syntax is `string[start:stop:step]`, where\n",
    "* `start` is the index where the slice starts (inclusive)\n",
    "* `stop` is the index where the slide ends (exclusive)\n",
    "* `step` is the step size between characters (optional). \n",
    "\n",
    "\n",
    "<br/>🐍 Let's start the exercise now! \n",
    "***\n",
    "Write a program that \n",
    "- stores the sentence `\"Now, I am enjoying learning python\"` in a variable named `sentence`.\n",
    "- uses slicing to print the first character of the sentence, which is `'N'`.\n",
    "- uses slicing to print the first character of the sentence, which is `'n'`.\n",
    "\n",
    "⚠️ Warning: don't print directly `print(\"N\")` and `print(\"n\")`!"
   ]
  },
  {
   "cell_type": "code",
   "execution_count": null,
   "metadata": {},
   "outputs": [],
   "source": [
    "# TODO: code me!"
   ]
  },
  {
   "cell_type": "markdown",
   "metadata": {},
   "source": [
    "### Exercise 32 <span style=\"color:#F0B815;\">★★</span>\n",
    "\n",
    "Given the string `\"stressed\"`, use slicing to print the reverse string. Miam 😋 !"
   ]
  },
  {
   "cell_type": "code",
   "execution_count": null,
   "metadata": {},
   "outputs": [],
   "source": [
    "# TODO: code me!"
   ]
  },
  {
   "cell_type": "markdown",
   "metadata": {},
   "source": [
    "### Exercise 33 <span style=\"color:#F0B815;\">★★</span>\n",
    "\n",
    "Given the string `\"I think 🤔, therefore I am.\"`, use slicing to extract and print the word `therefore`."
   ]
  },
  {
   "cell_type": "code",
   "execution_count": null,
   "metadata": {},
   "outputs": [],
   "source": [
    "# TODO: code me!"
   ]
  },
  {
   "cell_type": "markdown",
   "metadata": {},
   "source": [
    "### Exercise 34 <span style=\"color:#F0B815;\">★★</span>\n",
    "\n",
    "Given this string `\"123456789\"`, use slicing to extract all characters that are in odd positions (`\"13579\"`). \n",
    "\n",
    "💡 Hint: go back to the general syntax of string slicing (in the doc or ex31). \n",
    "\n",
    "⚠️ You don't need any if/elif/else control flow! "
   ]
  },
  {
   "cell_type": "code",
   "execution_count": null,
   "metadata": {},
   "outputs": [],
   "source": [
    "# TODO: code me!"
   ]
  },
  {
   "cell_type": "markdown",
   "metadata": {},
   "source": [
    "## Control flow"
   ]
  },
  {
   "cell_type": "markdown",
   "metadata": {},
   "source": [
    "### Exercise 35 <span style=\"color:#F0B815;\">★★</span>\n",
    "\n",
    "Write a code that: \n",
    "* takes a string as input \n",
    "* checks if the text is too short (less than or equal to 10 characters)\n",
    "    * If it’s too short, prints the message `\"The text is too short!\"`\n",
    "    * If not, prints the message `\"The text is long enough for analysis!`\n",
    "\n",
    "💡 Hint: verify the length of the string! "
   ]
  },
  {
   "cell_type": "code",
   "execution_count": null,
   "metadata": {},
   "outputs": [],
   "source": [
    "# TODO: code me!"
   ]
  },
  {
   "cell_type": "markdown",
   "metadata": {},
   "source": [
    "### Exercise 36 <span style=\"color:#F0B815;\">★★</span>\n",
    "\n",
    "Write a code that checks if the temperature is in the normal body temperature range (36.5°C to 37.5°C). \n",
    "* If the temperature is in this range, print `\"Normal body temperature 💪\"`. \n",
    "* Otherwise, print `\"Abnormal body temperature 🤒\"`.\n",
    "\n",
    "🚨 Use only `if`/`else` without `elif`!"
   ]
  },
  {
   "cell_type": "code",
   "execution_count": null,
   "metadata": {},
   "outputs": [],
   "source": [
    "# TODO: code me!"
   ]
  },
  {
   "cell_type": "markdown",
   "metadata": {},
   "source": [
    "### Exercise 37 <span style=\"color:#F0B815;\">★★</span>\n",
    "\n",
    "To calculate income tax 💸, you can use the following tax brackets:\n",
    "* If income is less than 10,000💰, the tax 💸 is 5% of the income.\n",
    "* If income is between 10,000💰 and 30,000💰, the tax 💸 is 10% of the income.\n",
    "* If income is greater than 30,000💰, the tax 💸 is 20% of the income.\n",
    "\n",
    "Write a code that takes the user’s income as input and prints the calculated tax.\n"
   ]
  },
  {
   "cell_type": "code",
   "execution_count": null,
   "metadata": {},
   "outputs": [],
   "source": [
    "# TODO: code me!"
   ]
  },
  {
   "cell_type": "markdown",
   "metadata": {},
   "source": [
    "## Loops"
   ]
  },
  {
   "cell_type": "markdown",
   "metadata": {},
   "source": [
    "### Exercise 38 <span style=\"color:#F0B815;\">★</span>\n",
    "\n",
    "Write a `for` loop to print numbers from 1 to 10 using `range()`, each on a new line."
   ]
  },
  {
   "cell_type": "code",
   "execution_count": null,
   "metadata": {},
   "outputs": [],
   "source": [
    "# TODO: code me!"
   ]
  },
  {
   "cell_type": "markdown",
   "metadata": {},
   "source": [
    "### Exercise 39 <span style=\"color:#F0B815;\">★</span>\n",
    "\n",
    "Given a string \"Hello\", print each character in the string on a new line."
   ]
  },
  {
   "cell_type": "code",
   "execution_count": null,
   "metadata": {},
   "outputs": [],
   "source": [
    "word = \"Hello\"\n",
    "# TODO: code me!"
   ]
  },
  {
   "cell_type": "markdown",
   "metadata": {},
   "source": [
    "### Exercise 40 <span style=\"color:#F0B815;\">★★</span>\n",
    "\n",
    "Write a `for` loop that prints all <span style=\"color:red;\">even</span> numbers from 1 to 10."
   ]
  },
  {
   "cell_type": "code",
   "execution_count": null,
   "metadata": {},
   "outputs": [],
   "source": [
    "# TODO: code me!"
   ]
  },
  {
   "cell_type": "markdown",
   "metadata": {},
   "source": [
    "### Exercise 41 <span style=\"color:#F0B815;\">★★★</span>\n",
    "\n",
    "Write a `for` loop to calculate the sum of numbers from 1 to 100.\n",
    "$$\\sum_{k=1}^{100} k$$"
   ]
  },
  {
   "cell_type": "code",
   "execution_count": null,
   "metadata": {},
   "outputs": [],
   "source": [
    "# TODO: code me!"
   ]
  },
  {
   "cell_type": "markdown",
   "metadata": {},
   "source": [
    "### Exercise 42 <span style=\"color:#F0B815;\">★★</span>\n",
    "\n",
    "Write a code that prints numbers from 1 to 5 using a `while` loop."
   ]
  },
  {
   "cell_type": "code",
   "execution_count": null,
   "metadata": {},
   "outputs": [],
   "source": [
    "# TODO: code me!"
   ]
  },
  {
   "cell_type": "markdown",
   "metadata": {},
   "source": [
    "### Exercise 43 <span style=\"color:#F0B815;\">★★★</span>\n",
    "\n",
    "Write a code that keeps asking the user to enter a password until they enter the correct one, `\"python123\"` 💻. \n",
    "\n",
    "💡 Hint: Use a `while True` loop.\n",
    "\n",
    "💡 Hint2: Follow these steps only if you're stuck and unable to find the solution. \n",
    "1. use a while loop.\n",
    "2. ask the user to enter a password.\n",
    "3. check if the password is correct (equal to \"python123\")\n",
    "    * if correct, print the message `\"Correct password 😎!\"`\n",
    "    * if not, print the message `\"Incorrect password 😫, try again.\"`"
   ]
  },
  {
   "cell_type": "code",
   "execution_count": null,
   "metadata": {},
   "outputs": [],
   "source": [
    "# TODO: code me!"
   ]
  },
  {
   "cell_type": "markdown",
   "metadata": {},
   "source": [
    "## Lists"
   ]
  },
  {
   "cell_type": "markdown",
   "metadata": {},
   "source": [
    "### Exercise 44 <span style=\"color:#F0B815;\">★</span>\n",
    "\n",
    "Create a list of your five favorite fruits, and print both the list and its length."
   ]
  },
  {
   "cell_type": "code",
   "execution_count": null,
   "metadata": {},
   "outputs": [],
   "source": [
    "# TODO: code me!"
   ]
  },
  {
   "cell_type": "markdown",
   "metadata": {},
   "source": [
    "### Exercise 45 <span style=\"color:#F0B815;\">★★</span>\n",
    "\n",
    "Write a code that, using the list `tokens`: \n",
    "* prints the first token. \n",
    "* prints the last token.\n",
    "* prints the three first tokens (sublist).\n",
    "* prints the 2 last tokens (sublist).\n",
    "* prints from the 3rd token to the 7th (sublist)."
   ]
  },
  {
   "cell_type": "code",
   "execution_count": 30,
   "metadata": {},
   "outputs": [],
   "source": [
    "tokens = ['Large', 'language', 'models', 'LLMs', 'use', 'deep', 'learning', 'to', 'process', 'and', 'generate', 'human-like', 'text', 'transforming', 'natural', 'language', 'processing', 'tasks', 'globally']\n",
    "# TODO: code me!"
   ]
  },
  {
   "cell_type": "markdown",
   "metadata": {},
   "source": [
    "### Exercise 45 <span style=\"color:#F0B815;\">★★</span>\n",
    "\n",
    "From the following list of punctuation, write a code that:\n",
    "* removes the letter `'a'` from the list using `remove()`.\n",
    "* removes the last item from the list using `pop()`.\n",
    "* prints the punctuation list after removal operations.\n",
    "* clears the list using `clear()`.\n",
    "* prints the punctuation list after it has been cleared."
   ]
  },
  {
   "cell_type": "code",
   "execution_count": null,
   "metadata": {},
   "outputs": [],
   "source": [
    "punctuation = ['!', '\"', '#', 'a', '$', '%', '&', \"'\", '(', ')', '*', '+', ',', '-', '.', '/', ':', ';', '<', '=', '>', '?', '@', '[', '\\\\', ']', '^', '_', '`', '{', '|', '}', '~', 'char']\n",
    "# TODO: code me!"
   ]
  },
  {
   "cell_type": "markdown",
   "metadata": {},
   "source": [
    "### Exercise 46 <span style=\"color:#F0B815;\">★★★</span>\n",
    "\n",
    "🗒️ Append vs Extend\n",
    "*** \n",
    "The `append()` method adds an item to the end of a list without altering its structure. For example, to add the fruit `\"orange\"` to the list `fruits`, we can do: \n",
    "```python\n",
    "fruits.append(\"orange\")\n",
    "```\n",
    "\n",
    "The `extend()` method adds each element from an iterable (such as a list) to the end of the existing list individually. For example, to add the fruits `[\"orange\", \"grape\"]` to the list `fruits`, you can use:\n",
    "```python\n",
    "fruits.extend([\"orange\", \"grape\"])\n",
    "```\n",
    "\n",
    "Let's move to the exercise 😎\n",
    "***\n",
    "\n",
    "* Create a list called `vegetables` with the items `\"carrot\"`, `\"potato\"`. \n",
    "* Use the `append()` method to add another list `[\"onion\", \"tomato\"]` to it.\n",
    "* print the list of `vegetables`. What do you notice?\n",
    "* use `pop()` method to remove the last item (the added list).\n",
    "* Now, use the `extend()` method to add the items from the list `[\"onion\", \"tomato\"]` one by one into `vegetables`.\n",
    "* print the list of `vegetables`. "
   ]
  },
  {
   "cell_type": "code",
   "execution_count": null,
   "metadata": {},
   "outputs": [],
   "source": [
    "# TODO: code me!"
   ]
  },
  {
   "cell_type": "markdown",
   "metadata": {},
   "source": [
    "### Exercise 47 <span style=\"color:#F0B815;\">★★★</span>\n",
    "\n",
    "🗒️ List Comprehension\n",
    "***\n",
    "A list comprehension is a concise way to create lists in Python. It allows you to generate a new list by applying an expression to each element in an existing iterable (like a list, tuple, or range), all within a single line of code.\n",
    "\n",
    "The general syntax is as follows: `[expression for item in iterable]`\n",
    "It can also include conditions: `[expression for item in iterable if condition]`\n",
    "\n",
    "For example, to create a list of squared numbers from the list `numbers`, we can use a traditional `for` loop as follows: \n",
    "```python\n",
    "numbers = [1, 2, 3, 4, 5]\n",
    "squared_numbers = []\n",
    "\n",
    "for number in numbers:\n",
    "    squared_numbers.append(number ** 2)\n",
    "```\n",
    "\n",
    "using a list comprehension simplifies the process and makes the code more concise. The same result can be achieved with the following one-liner: \n",
    "```python\n",
    "squared_numbers = [number ** 2 for number in numbers]\n",
    "```\n",
    "\n",
    "\n",
    "<br/>Let's come back to the exercise 😎!\n",
    "***\n",
    "Refactor(transform) the following code using a `list comprehension` to generate a list of words (of the title in `title_words`), all in lowercase."
   ]
  },
  {
   "cell_type": "code",
   "execution_count": 32,
   "metadata": {},
   "outputs": [
    {
     "data": {
      "text/plain": [
       "['large', 'language', 'models', 'meet', 'nlp:', 'a', 'survey']"
      ]
     },
     "execution_count": 32,
     "metadata": {},
     "output_type": "execute_result"
    }
   ],
   "source": [
    "title_words = ['Large', 'Language', 'Models', 'Meet', 'NLP:', 'A', 'Survey']\n",
    "# TODO: transform me!\n",
    "# --\n",
    "lowercased_words = []\n",
    "for word in title_words:\n",
    "    lower_word = word.lower()\n",
    "    lowercased_words.append(lower_word)\n",
    "# --\n",
    "print(lowercased_words)"
   ]
  },
  {
   "cell_type": "markdown",
   "metadata": {},
   "source": [
    "## Files I/O\n",
    "File I/O (Input/Output) in Python refers to the process of reading from and writing to files on your computer. This is a fundamental skill for working with data stored in files, such as text files, CSVs, or even binary data like images or audio files.\n",
    "\n",
    "When working with files in Python, the file can be opened in different modes, depending on what operation you want to perform. These modes are passed as arguments to the open() function:\n",
    "\n",
    "- `'r'` (read): Opens the file for reading. If the file doesn't exist, it raises an error.\n",
    "- `'w'` (write): Opens the file for writing. If the file exists, it overwrites the content. If the file doesn't exist, it creates a new one.\n",
    "- `'a'` (append): Opens the file for appending new content to the end of the file. If the file doesn't exist, it creates a new one.\n",
    "- `'r+'` (read and write): Opens the file for both reading and writing. If the file doesn't exist, it raises an error.\n",
    "\n",
    "To open a file in a reading mode and , you can use the syntax: \n",
    "```python\n",
    "file = open(\"example.txt\", \"r\")\n",
    "content = file.read()\n",
    "```\n",
    "\n",
    "It is highly recommended to use the `with` statement when working with file I/O because it automatically closes the file after the block is executed. This eliminates the need to manually close the file using `close()`, which can prevent potential issues like memory leaks or data corruption.\n",
    "```python\n",
    "with open(\"example.txt\", \"r\") as file:\n",
    "    content = file.read()\n",
    "```"
   ]
  },
  {
   "cell_type": "markdown",
   "metadata": {},
   "source": [
    "### Exercise 48 <span style=\"color:#F0B815;\">★★</span>\n",
    "\n",
    "Write a code that\n",
    "* opens the file `cognitive_biases.txt`.\n",
    "* reads the entire content using `read()`.\n",
    "* stores it in a variable named `text`.\n",
    "* prints the first sentence of the text. \n",
    "\n",
    "💡 Hint: you can use `split()` with a special character to split sentence 😉!"
   ]
  },
  {
   "cell_type": "code",
   "execution_count": null,
   "metadata": {},
   "outputs": [],
   "source": [
    "# TODO: code me!"
   ]
  },
  {
   "cell_type": "markdown",
   "metadata": {},
   "source": [
    "### Exercise 49 <span style=\"color:#F0B815;\">★★</span>\n",
    "\n",
    "Write a code that \n",
    "* opens the file `cognitive_biases.txt`.\n",
    "* reads the line of the text file using `readlines()` and stores it in a variable named `lines`.\n",
    "* select the first line (first item of the list) and stores it in a variable named `title`. \n",
    "* prints `title`. "
   ]
  },
  {
   "cell_type": "code",
   "execution_count": null,
   "metadata": {},
   "outputs": [],
   "source": [
    "# TODO: code me!"
   ]
  },
  {
   "cell_type": "markdown",
   "metadata": {},
   "source": [
    "### Exercise 50 <span style=\"color:#F0B815;\">★★</span>\n",
    "\n",
    "Write a code that \n",
    "* opens the file `cognitive_biases.txt`.\n",
    "* reads the first line using `readline()`.\n",
    "* stores it in a variable named `title`. \n",
    "* prints `title`. \n",
    "\n",
    "😄 Easier, isn't it ?!"
   ]
  },
  {
   "cell_type": "code",
   "execution_count": null,
   "metadata": {},
   "outputs": [],
   "source": [
    "# TODO: code me!"
   ]
  },
  {
   "cell_type": "markdown",
   "metadata": {},
   "source": [
    "### Exercise 51 <span style=\"color:#F0B815;\">★★</span>\n",
    "\n",
    "Write a code that \n",
    "* opens the file `cognitive_biases.txt`.\n",
    "* reads the full text in a variable named `text`.\n",
    "* replaces the title `\"The Role of Cognitive Biases in Human Decision-Making\"` by the new title `\"Cognitive Biases and Their Impact on Everyday Decision-Making\"` and stores it in a variable named `new_text`.\n",
    "* writes in the file the `new_text` (with the new title) to replace the old title."
   ]
  },
  {
   "cell_type": "code",
   "execution_count": null,
   "metadata": {},
   "outputs": [],
   "source": [
    "# TODO: code me!"
   ]
  },
  {
   "cell_type": "markdown",
   "metadata": {},
   "source": [
    "## Dictionaries\n",
    "\n",
    "🗒️ A **dictionary** in Python is a collection of key-value pairs, where each key is unique and maps to a specific value.\n",
    "\n",
    "Here's a simple example of creating a dictionary in Python:\n",
    "```python\n",
    "car = {\n",
    "    \"brand\": \"Toyota\",\n",
    "    \"model\": \"Corolla\",\n",
    "    \"year\": 2021\n",
    "}\n",
    "```"
   ]
  },
  {
   "cell_type": "markdown",
   "metadata": {},
   "source": [
    "### Exercise 52 <span style=\"color:#F0B815;\">★</span>\n",
    "\n",
    "Write a code that \n",
    "* creates a dictionary with the keys `\"name\"`, `\"age\"` and `\"country\"`.\n",
    "* assigns values that reflect your own details.\n",
    "* prints it."
   ]
  },
  {
   "cell_type": "code",
   "execution_count": null,
   "metadata": {},
   "outputs": [],
   "source": [
    "# TODO: code me!"
   ]
  },
  {
   "cell_type": "markdown",
   "metadata": {},
   "source": [
    "### Exercise 53 <span style=\"color:#F0B815;\">★★</span>\n",
    "\n",
    "Given the dictionary bellow, write a code that\n",
    "* prints the POS tag of the word `\"chased\"`.\n",
    "* replaces the POS tag of the word `\"chased\"` by `\"VERB\"`.\n",
    "* prints the dictionary."
   ]
  },
  {
   "cell_type": "code",
   "execution_count": 33,
   "metadata": {},
   "outputs": [],
   "source": [
    "pos_tags = {\n",
    "    \"The\": \"DET\",    \n",
    "    \"cat\": \"NOUN\",\n",
    "    \"chased\": \"NOUN\",\n",
    "    \"the\": \"DET\",\n",
    "    \"mouse\": \"NOUN\"\n",
    "}\n",
    "# TODO: code me!\n"
   ]
  },
  {
   "cell_type": "markdown",
   "metadata": {},
   "source": [
    "### Exercise 54 <span style=\"color:#F0B815;\">★★★</span>\n",
    "\n",
    "Given the dictionary bellow, write a code that\n",
    "* removes the last key-value pair using `pop()`.\n",
    "* creates a new dictionary named `additional_pos_tags` with the keys `\"inside\"`, `\"the\"` and `\"house\"` corresponding to the POS tags`\"PREP\"`, `\"DET\"` and `\"NOUN\"`, respectively.\n",
    "* updates the existing dictionary `pos_tags` with the dictionary `additional_pos_tags`.\n",
    "* prints the dictionary. "
   ]
  },
  {
   "cell_type": "code",
   "execution_count": null,
   "metadata": {},
   "outputs": [],
   "source": [
    "pos_tags = {\n",
    "    \"The\": \"DET\",    \n",
    "    \"cat\": \"NOUN\",\n",
    "    \"chased\": \"NOUN\",\n",
    "    \"the\": \"DET\",\n",
    "    \"mouse\": \"NOUN\"\n",
    "}\n",
    "# TODO: code me!"
   ]
  },
  {
   "cell_type": "markdown",
   "metadata": {},
   "source": [
    "### Exercise 55 <span style=\"color:#F0B815;\">★★★</span>\n",
    "\n",
    "Given the dictionary `token_count`, print the words and their occurrences where the frequency is less than 10.\n",
    "\n",
    "💡 Hint: use the `items()` method. "
   ]
  },
  {
   "cell_type": "code",
   "execution_count": null,
   "metadata": {},
   "outputs": [],
   "source": [
    "token_count = {'the': 23, 'cat': 9, 'sat': 3, 'on': 12, 'mat': 7}\n",
    "# TODO: code me!"
   ]
  },
  {
   "cell_type": "markdown",
   "metadata": {},
   "source": [
    "### Exercise 56 <span style=\"color:#F0B815;\">★★★</span>\n",
    "\n",
    "Given the dictionary `product_prices`, print all the product that costs more than 1.5€ using only `keys()`. \n",
    "\n",
    "⚠️ Warning: Don't use `items()`!"
   ]
  },
  {
   "cell_type": "code",
   "execution_count": null,
   "metadata": {},
   "outputs": [],
   "source": [
    "product_prices = {\n",
    "    'apple': 1.20,\n",
    "    'banana': 0.50,\n",
    "    'orange': 0.80,\n",
    "    'milk': 1.50,\n",
    "    'bread': 2.00,\n",
    "    'eggs': 2.50,\n",
    "    'cheese': 3.00,\n",
    "    'chocolate': 1.75\n",
    "}\n",
    "# TODO: code me!"
   ]
  },
  {
   "cell_type": "markdown",
   "metadata": {},
   "source": [
    "### Exercise 57 <span style=\"color:#F0B815;\">★★★</span>\n",
    "\n",
    "Given the `tokens_counts` dictionary bellow, what is the total number of words ?\n",
    "\n",
    "💡 Hint: use the `values()` method."
   ]
  },
  {
   "cell_type": "code",
   "execution_count": 43,
   "metadata": {},
   "outputs": [],
   "source": [
    "tokens_counts = {'linguistic': 2, 'psychology': 1, 'explores': 1, 'how': 3, 'language': 1, 'influences': 1, 'thought': 1, 'emotion': 1, 'and': 3, 'behavior': 1, 'it': 3, 'examines': 1, 'word': 1, 'choice': 1, 'shapes': 1, 'perception': 1, 'cognitive': 1, 'processes': 1, 'like': 1, 'memory': 1, 'attention': 1, 'interact': 1, 'with': 1, 'patterns': 1}\n",
    "# TODO: code me!"
   ]
  },
  {
   "cell_type": "markdown",
   "metadata": {},
   "source": [
    "## Functions"
   ]
  },
  {
   "cell_type": "markdown",
   "metadata": {},
   "source": [
    "### Exercise 58 <span style=\"color:#F0B815;\">★</span>\n",
    "\n",
    "Define a function named `hello_world` that prints the phrase `\"Hello, World!\"`. Then, call the function.\n",
    "\n",
    "⚠️ Warning: this function takes no argument. "
   ]
  },
  {
   "cell_type": "code",
   "execution_count": null,
   "metadata": {},
   "outputs": [],
   "source": [
    "# TODO: code me!\n",
    "\n",
    "# Function call\n",
    "hello_world()"
   ]
  },
  {
   "cell_type": "markdown",
   "metadata": {},
   "source": [
    "### Exercise 59 <span style=\"color:#F0B815;\">★★</span>\n",
    "\n",
    "1. Define a function named `add_numbers` that takes two parameters `x` and `y` and returns their sum. \n",
    "2. Call the function with two numbers and store the returned value in a variables named `addition`. \n",
    "3. Print the `addition`. "
   ]
  },
  {
   "cell_type": "code",
   "execution_count": null,
   "metadata": {},
   "outputs": [],
   "source": [
    "# TODO: code me!"
   ]
  },
  {
   "cell_type": "markdown",
   "metadata": {},
   "source": [
    "### Exercise 60 <span style=\"color:#F0B815;\">★★★</span>\n",
    "\n",
    "1. Define a function named `reversing_string` that takes a string `s` as an argument and returns the string in reverse. \n",
    "2. Call the function with the string `\"drawer\"` and store the returned value in a variables named `reversed_str`. \n",
    "3. Print the `reversed_str`. \n",
    "\n",
    "💡 Hint: do you remember string slicing? "
   ]
  },
  {
   "cell_type": "code",
   "execution_count": null,
   "metadata": {},
   "outputs": [],
   "source": [
    "# TODO: code me!"
   ]
  }
 ],
 "metadata": {
  "kernelspec": {
   "display_name": "Python 3",
   "language": "python",
   "name": "python3"
  },
  "language_info": {
   "codemirror_mode": {
    "name": "ipython",
    "version": 3
   },
   "file_extension": ".py",
   "mimetype": "text/x-python",
   "name": "python",
   "nbconvert_exporter": "python",
   "pygments_lexer": "ipython3",
   "version": "3.8.18"
  },
  "orig_nbformat": 4
 },
 "nbformat": 4,
 "nbformat_minor": 2
}
