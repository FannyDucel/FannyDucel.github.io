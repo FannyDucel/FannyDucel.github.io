{
 "cells": [
  {
   "cell_type": "markdown",
   "id": "7ea1cd34",
   "metadata": {
    "slideshow": {
     "slide_type": "slide"
    }
   },
   "source": [
    "# Types and general questions"
   ]
  },
  {
   "cell_type": "markdown",
   "id": "a1d55b98",
   "metadata": {
    "slideshow": {
     "slide_type": "subslide"
    }
   },
   "source": [
    "Which elements of the following list are real Python types?\n",
    "\n",
    "- list\n",
    "- bag\n",
    "- dict\n",
    "- int\n",
    "- tuple\n",
    "- function\n",
    "- print\n",
    "- stack\n",
    "- str\n",
    "- float\n",
    "- set\n",
    "- while"
   ]
  },
  {
   "cell_type": "markdown",
   "id": "2905a383",
   "metadata": {
    "slideshow": {
     "slide_type": "subslide"
    }
   },
   "source": [
    "What is `word = 'class'` doing?\n",
    "\n",
    "- Checking if the string 'class' is in the variable word, and returning True if it is\n",
    "- Nothing\n",
    "- Creating a variable called word, that stores the string 'class'"
   ]
  },
  {
   "cell_type": "markdown",
   "id": "420520c9",
   "metadata": {
    "slideshow": {
     "slide_type": "subslide"
    }
   },
   "source": [
    "What would be the output of `print(\"112\"*2)`?\n",
    "\n",
    "- 224\n",
    "- 56\n",
    "- \"112112\"\n",
    "- 110"
   ]
  },
  {
   "cell_type": "markdown",
   "id": "bd790b9a",
   "metadata": {
    "slideshow": {
     "slide_type": "subslide"
    }
   },
   "source": [
    "What will happen if I use `int(\"128\")?`\n",
    "\n",
    "- SyntaxError\n",
    "- It will convert the string \"128\" to an integer (128)\n",
    "- It will convert the int 128 to a string (\"128\")"
   ]
  },
  {
   "cell_type": "markdown",
   "id": "15e802a0",
   "metadata": {
    "slideshow": {
     "slide_type": "subslide"
    }
   },
   "source": [
    "Why is this code not doing anything?"
   ]
  },
  {
   "cell_type": "code",
   "execution_count": 3,
   "id": "97626618",
   "metadata": {
    "slideshow": {
     "slide_type": "fragment"
    }
   },
   "outputs": [],
   "source": [
    "word = \"python\"\n",
    "if \"p\" in \"python\":\n",
    "    \"yes\""
   ]
  },
  {
   "cell_type": "markdown",
   "id": "ecac5c45",
   "metadata": {
    "slideshow": {
     "slide_type": "fragment"
    }
   },
   "source": [
    "- Endless loop\n",
    "- The condition is not True\n",
    "- The code is actually doing something"
   ]
  },
  {
   "cell_type": "markdown",
   "id": "0284bdd9",
   "metadata": {
    "slideshow": {
     "slide_type": "slide"
    }
   },
   "source": [
    "# Strings"
   ]
  },
  {
   "cell_type": "markdown",
   "id": "b7988a2b",
   "metadata": {
    "slideshow": {
     "slide_type": "subslide"
    }
   },
   "source": [
    "If I put the English alphabet in a string `alphabet = \"abcdef...\"`, what will be the output of `print(alphabet[2])`? What will be the output of `print(alphabet[-1])`?\n",
    "\n",
    "- b and Error\n",
    "- c and y\n",
    "- c and z\n",
    "- a and z"
   ]
  },
  {
   "cell_type": "markdown",
   "id": "010cd03f",
   "metadata": {
    "slideshow": {
     "slide_type": "subslide"
    }
   },
   "source": [
    "If I want to know how many letters are in a string, what function should I use?\n",
    "\n",
    "- print()\n",
    "- find()\n",
    "- len()\n",
    "- split()"
   ]
  },
  {
   "cell_type": "markdown",
   "id": "6eeababc",
   "metadata": {
    "slideshow": {
     "slide_type": "subslide"
    }
   },
   "source": [
    "What will `\"PytHoN\".lower()` return?\n",
    "\n",
    "- \"PYTHON\"\n",
    "- \"Python\n",
    "- \"python\""
   ]
  },
  {
   "cell_type": "markdown",
   "id": "09e77eb8",
   "metadata": {
    "slideshow": {
     "slide_type": "subslide"
    }
   },
   "source": [
    "What will `\"PytHoN\".find(\"p\")` return?\n",
    "\n",
    "- True\n",
    "- 0\n",
    "- 1\n",
    "- -1"
   ]
  },
  {
   "cell_type": "markdown",
   "id": "4c5913de",
   "metadata": {
    "slideshow": {
     "slide_type": "slide"
    }
   },
   "source": [
    "# Conditions and loops"
   ]
  },
  {
   "cell_type": "markdown",
   "id": "18df4f8b",
   "metadata": {
    "slideshow": {
     "slide_type": "subslide"
    }
   },
   "source": [
    "What will be the output of the following code?"
   ]
  },
  {
   "cell_type": "code",
   "execution_count": null,
   "id": "0980e91c",
   "metadata": {
    "slideshow": {
     "slide_type": "fragment"
    }
   },
   "outputs": [],
   "source": [
    "noun = \"question\"\n",
    "letter = \"t\"\n",
    "\n",
    "if letter == noun:\n",
    "    print(f\"The letter {letter} is in the noun {noun}\")"
   ]
  },
  {
   "cell_type": "markdown",
   "id": "afb6d5a9",
   "metadata": {
    "slideshow": {
     "slide_type": "fragment"
    }
   },
   "source": [
    "- \"The letter t is in the noun question\"\n",
    "- Nothing\n",
    "- \"The letter question is in the noun t\""
   ]
  },
  {
   "cell_type": "markdown",
   "id": "67b9e0b5",
   "metadata": {
    "slideshow": {
     "slide_type": "subslide"
    }
   },
   "source": [
    "What will be the output of the following code?"
   ]
  },
  {
   "cell_type": "code",
   "execution_count": null,
   "id": "bb51dca2",
   "metadata": {
    "slideshow": {
     "slide_type": "fragment"
    }
   },
   "outputs": [],
   "source": [
    "noun = \"question\"\n",
    "letter = \"t\"\n",
    "\n",
    "if letter in noun:\n",
    "    print(f\"The letter {letter} is in the noun {noun}\")"
   ]
  },
  {
   "cell_type": "markdown",
   "id": "4693224c",
   "metadata": {
    "slideshow": {
     "slide_type": "fragment"
    }
   },
   "source": [
    "- \"The letter t is in the noun question\"\n",
    "- Nothing\n",
    "- \"The letter question is in the noun t\""
   ]
  },
  {
   "cell_type": "markdown",
   "id": "c03be5c0",
   "metadata": {
    "slideshow": {
     "slide_type": "subslide"
    }
   },
   "source": [
    "What will be the output of the following code?"
   ]
  },
  {
   "cell_type": "code",
   "execution_count": 3,
   "id": "5a28ad22",
   "metadata": {
    "slideshow": {
     "slide_type": "fragment"
    }
   },
   "outputs": [],
   "source": [
    "noun = \"question\"\n",
    "letter = \"t\"\n",
    "\n",
    "if letter in noun or \"w\" in noun:\n",
    "    print(\"Yes\")"
   ]
  },
  {
   "cell_type": "markdown",
   "id": "34b0255d",
   "metadata": {
    "slideshow": {
     "slide_type": "fragment"
    }
   },
   "source": [
    "- Yes\n",
    "- No\n",
    "- Nothing"
   ]
  },
  {
   "cell_type": "markdown",
   "id": "b338c117",
   "metadata": {
    "slideshow": {
     "slide_type": "subslide"
    }
   },
   "source": [
    "What will be the output of the following code?"
   ]
  },
  {
   "cell_type": "code",
   "execution_count": null,
   "id": "4ff11b08",
   "metadata": {
    "slideshow": {
     "slide_type": "fragment"
    }
   },
   "outputs": [],
   "source": [
    "noun = \"question\"\n",
    "letter = \"t\"\n",
    "\n",
    "if letter in noun:\n",
    "    print(f\"The letter {letter} is in the noun {noun}\")\n",
    "elif \"q\" in noun:\n",
    "    print(f\"The letter q is in the noun {noun}\")\n",
    "else:\n",
    "    print(\"No\")"
   ]
  },
  {
   "cell_type": "markdown",
   "id": "9c48a1d8",
   "metadata": {
    "slideshow": {
     "slide_type": "fragment"
    }
   },
   "source": [
    "- No\n",
    "- The letter t is in the noun question The letter q is in the noun question\n",
    "- The letter q is in the noun question\n",
    "- The letter t is in the noun question"
   ]
  },
  {
   "cell_type": "markdown",
   "id": "2a6a634b",
   "metadata": {
    "slideshow": {
     "slide_type": "subslide"
    }
   },
   "source": [
    "What will be the output of the following code?"
   ]
  },
  {
   "cell_type": "code",
   "execution_count": null,
   "id": "9b85b276",
   "metadata": {
    "slideshow": {
     "slide_type": "fragment"
    }
   },
   "outputs": [],
   "source": [
    "sentence = \"This is a question.\"\n",
    "for word in sentence:\n",
    "    print(word)"
   ]
  },
  {
   "cell_type": "markdown",
   "id": "c53a23c9",
   "metadata": {
    "slideshow": {
     "slide_type": "fragment"
    }
   },
   "source": [
    "- It will print word by word (this/ is/ a/ question)\n",
    "- It will print character by character (t h i s i s a q u e s t i o n)\n",
    "- It will print the full sentence\n"
   ]
  },
  {
   "cell_type": "markdown",
   "id": "51475358",
   "metadata": {
    "slideshow": {
     "slide_type": "subslide"
    }
   },
   "source": [
    "What will be the output of the following code?"
   ]
  },
  {
   "cell_type": "code",
   "execution_count": null,
   "id": "ce80046c",
   "metadata": {
    "slideshow": {
     "slide_type": "fragment"
    }
   },
   "outputs": [],
   "source": [
    "word = \"class\"\n",
    "i = 0\n",
    "while i < len(word):\n",
    "    print(word[i])"
   ]
  },
  {
   "cell_type": "markdown",
   "id": "69f658f0",
   "metadata": {
    "slideshow": {
     "slide_type": "fragment"
    }
   },
   "source": [
    "- It will print character by character (c l a s s)\n",
    "- Endless loop\n",
    "- It will print the different indexes (0 1 2 3 4)"
   ]
  },
  {
   "cell_type": "markdown",
   "id": "81c3ea68",
   "metadata": {
    "slideshow": {
     "slide_type": "slide"
    }
   },
   "source": [
    "# Lists, sets, dicts"
   ]
  },
  {
   "cell_type": "code",
   "execution_count": null,
   "id": "c5c13092",
   "metadata": {
    "slideshow": {
     "slide_type": "fragment"
    }
   },
   "outputs": [],
   "source": [
    "pronouns = [\"i\", \"you\", \"he\", \"she\", \"they\", \"it\", \"we\"]\n",
    "print(pronouns[1])"
   ]
  },
  {
   "cell_type": "markdown",
   "id": "cb93687d",
   "metadata": {
    "slideshow": {
     "slide_type": "fragment"
    }
   },
   "source": [
    "What will the preceding line print?\n",
    "- i\n",
    "- y\n",
    "- you"
   ]
  },
  {
   "cell_type": "markdown",
   "id": "a6699a44",
   "metadata": {
    "slideshow": {
     "slide_type": "fragment"
    }
   },
   "source": [
    "If I do a `pronouns.append(\"me\")`, what will happen? \n",
    "- \"me\" will be added at the end of the list\n",
    "- \"me\" will be deleted from the list\n",
    "- \"me\" will be added at start of the list"
   ]
  },
  {
   "cell_type": "code",
   "execution_count": null,
   "id": "59605211",
   "metadata": {
    "slideshow": {
     "slide_type": "subslide"
    }
   },
   "outputs": [],
   "source": [
    "noisy_text = \"I/am/chaotic/what/can/I/do\"\n",
    "noisy_text.split(\"/\")"
   ]
  },
  {
   "cell_type": "markdown",
   "id": "ef031fa4",
   "metadata": {
    "slideshow": {
     "slide_type": "fragment"
    }
   },
   "source": [
    "What will be the output?\n",
    "- a string without /: \"I am chaotic what can I do\"\n",
    "- a list of strings without /: [\"I\", \"am\", \"chaotic\",\"what\",\"can\",\"I\",\"do\"]\n",
    "- a list of strings with /: [\"I/\", \"am/\", \"chaotic/\", \"what/\", \"can/\", \"I/\", \"do/\"]"
   ]
  },
  {
   "cell_type": "markdown",
   "id": "103415cc",
   "metadata": {
    "slideshow": {
     "slide_type": "subslide"
    }
   },
   "source": [
    "What will happen if I do `set(noisy_text.split(\"/\"))` ?\n",
    "\n",
    "- It will turn the list into a set = removing duplicates\n",
    "- It will turn the list into a set = the items are the same\n",
    "- It will turn the string into a set = removing duplicates"
   ]
  },
  {
   "cell_type": "code",
   "execution_count": null,
   "id": "f572ce8e",
   "metadata": {
    "slideshow": {
     "slide_type": "subslide"
    }
   },
   "outputs": [],
   "source": [
    "details = {\"Name\":\"Sasha\", \"Job\":\"Baker\", \"Age\":28}"
   ]
  },
  {
   "cell_type": "markdown",
   "id": "1d712711",
   "metadata": {
    "slideshow": {
     "slide_type": "fragment"
    }
   },
   "source": [
    "How to add some information about Sasha's hobbies?\n",
    "- details[\"Hobbies\"] = [\"paint\", \"run\", \"climb\"]\n",
    "- details.get(\"Hobbies\")\n",
    "- details = {\"Hobbies\": [\"paint\", \"run\", \"climb\"]}\n",
    "- details.append(\"paint\", \"run\", \"climb\")\n",
    "- details[\"Hobbies\"] = \"paint\", then details[\"Hobbies\"] = \"run\", then details[\"Hobbies\"] = \"climb\""
   ]
  },
  {
   "cell_type": "markdown",
   "id": "4439cedd",
   "metadata": {
    "slideshow": {
     "slide_type": "slide"
    }
   },
   "source": [
    "# Files "
   ]
  },
  {
   "cell_type": "code",
   "execution_count": null,
   "id": "975f8fd2",
   "metadata": {
    "slideshow": {
     "slide_type": "subslide"
    }
   },
   "outputs": [],
   "source": [
    "with open(\"novel.txt\") as f:\n",
    "    text = f.readline()"
   ]
  },
  {
   "cell_type": "markdown",
   "id": "c78930be",
   "metadata": {
    "slideshow": {
     "slide_type": "fragment"
    }
   },
   "source": [
    "What will the variable text contain? (assuming that the file \"novel.txt\" contains a novel)\n",
    "\n",
    "- a list with all the lines of the file\n",
    "- a list with just the first line of the file\n",
    "- a string : the first line of the file\n",
    "- a string : the whole file"
   ]
  },
  {
   "cell_type": "code",
   "execution_count": null,
   "id": "dfb3e602",
   "metadata": {
    "slideshow": {
     "slide_type": "subslide"
    }
   },
   "outputs": [],
   "source": [
    "with open(\"novel.txt\", \"w\") as w:\n",
    "    w.write(\"They lived happily ever after. END.\")"
   ]
  },
  {
   "cell_type": "markdown",
   "id": "7b16602e",
   "metadata": {
    "slideshow": {
     "slide_type": "fragment"
    }
   },
   "source": [
    "What will the file \"novel.txt\" contain now?\n",
    "\n",
    "- The full novel + \"They lived happily ever after. END\" at the end\n",
    "- \"They lived happily ever after. END\" (at the start) + the full novel\n",
    "- Nothing\n",
    "- Only the line: \"They lived happily ever after. END.\""
   ]
  },
  {
   "cell_type": "markdown",
   "id": "3e42e7c2",
   "metadata": {
    "slideshow": {
     "slide_type": "slide"
    }
   },
   "source": [
    "# Functions"
   ]
  },
  {
   "cell_type": "code",
   "execution_count": null,
   "id": "0b2af11f",
   "metadata": {
    "slideshow": {
     "slide_type": "fragment"
    }
   },
   "outputs": [],
   "source": [
    "def longer_word(word1, word2):\n",
    "    print(f\"Okay, let's compare {word1} and {word2}\")\n",
    "    if len(word1) > len(word2):\n",
    "        longest = word1\n",
    "    else:\n",
    "        longest = word2\n",
    "    return longest\n",
    "    print(\"Bye!\")\n",
    "\n",
    "longer_word(\"spice\", \"watermelon\")"
   ]
  },
  {
   "cell_type": "markdown",
   "id": "f5de00d4",
   "metadata": {
    "slideshow": {
     "slide_type": "fragment"
    }
   },
   "source": [
    "What is/are the parameter/s of this function?\n",
    "\n",
    "- \"spice\", \"watermelon\"\n",
    "- print, len\n",
    "- longest\n",
    "- word1, word2"
   ]
  },
  {
   "cell_type": "markdown",
   "id": "265eb0c0",
   "metadata": {
    "slideshow": {
     "slide_type": "subslide"
    }
   },
   "source": [
    "What will happen when you call the function (last line)?\n",
    "- It will print \"Okay, let's compare spice and watermelon\" and return \"watermelon\"\n",
    "- It will print \"Okay, let's compare spice and watermelon\", return \"watermelon\" and print \"Bye!\"\n",
    "- It will only print \"Okay, let's compare spice and watermelon\"\n",
    "- It will only print \"Bye!\"\n",
    "- It will only return \"watermelon\""
   ]
  },
  {
   "cell_type": "markdown",
   "id": "d51923da",
   "metadata": {
    "slideshow": {
     "slide_type": "subslide"
    }
   },
   "source": [
    "If we create a variable with `chosen_word = longer_word(\"spice\", \"watermelon\")`, what will it contain?\n",
    "- \"spice\"\n",
    "- \"watermelon\"\n",
    "- \"Bye!\"\n",
    "- \"Okay, let's compare spice and watermelon\" and \"watermelon\""
   ]
  },
  {
   "cell_type": "markdown",
   "id": "30dd0957",
   "metadata": {
    "slideshow": {
     "slide_type": "subslide"
    }
   },
   "source": [
    "What is the problem with the following function?"
   ]
  },
  {
   "cell_type": "code",
   "execution_count": 31,
   "id": "15c5d359",
   "metadata": {
    "slideshow": {
     "slide_type": "fragment"
    }
   },
   "outputs": [],
   "source": [
    "ingredients = {\"potato\":3, \"leek\":1, \"onion\":0.5}\n",
    "def double_dose(key):\n",
    "    return ingredients[key]*2"
   ]
  },
  {
   "cell_type": "markdown",
   "id": "96eb7f05",
   "metadata": {
    "slideshow": {
     "slide_type": "fragment"
    }
   },
   "source": [
    "- There's no problem.\n",
    "- \"ingredients\" should be defined within the function or given as an argument.\n",
    "- You have to include a print in the function.\n",
    "- The multiplication won't work."
   ]
  },
  {
   "cell_type": "markdown",
   "id": "3cc83bfa",
   "metadata": {
    "slideshow": {
     "slide_type": "subslide"
    }
   },
   "source": [
    "Fill in the blank with correct answers:\n",
    "    \n",
    "In Python, if I want to iterate through the elements of a list, I should use a _ loop.\n",
    "In Python, if I want to turn a string into a list of \"words\", I should use my_string__\n",
    "\n",
    " "
   ]
  },
  {
   "cell_type": "code",
   "execution_count": null,
   "id": "143a04fc",
   "metadata": {
    "slideshow": {
     "slide_type": "subslide"
    }
   },
   "outputs": [],
   "source": [
    "# ex of the combination of two lists\n",
    "adj = [\"red\", \"big\", \"tasty\"]\n",
    "fruits = [\"apple\", \"banana\", \"cherry\"]\n",
    "\n",
    "for x in adj:                         # rank 1: for red\n",
    "    for y in fruits:                  # associate each fruit\n",
    "        print(x, y) "
   ]
  },
  {
   "cell_type": "markdown",
   "id": "23b57f59",
   "metadata": {
    "slideshow": {
     "slide_type": "fragment"
    }
   },
   "source": [
    "What do you think is the problem with this code?\n",
    "- There's no problem.\n",
    "- It will lead to an error\n",
    "- Nothing will be printed.\n",
    "- It is okay, but it is going to take some time to run."
   ]
  }
 ],
 "metadata": {
  "celltoolbar": "Diaporama",
  "kernelspec": {
   "display_name": "Python 3 (ipykernel)",
   "language": "python",
   "name": "python3"
  },
  "language_info": {
   "codemirror_mode": {
    "name": "ipython",
    "version": 3
   },
   "file_extension": ".py",
   "mimetype": "text/x-python",
   "name": "python",
   "nbconvert_exporter": "python",
   "pygments_lexer": "ipython3",
   "version": "3.11.9"
  }
 },
 "nbformat": 4,
 "nbformat_minor": 5
}
