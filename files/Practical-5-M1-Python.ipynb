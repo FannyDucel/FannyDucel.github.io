{
 "cells": [
  {
   "cell_type": "markdown",
   "metadata": {},
   "source": [
    "# Python for Beginners - TD5\n",
    "\n",
    "[Nasser-eddine Monir](https://nasseredd.github.io) (CC BY-NC-SA) -- 2024\n",
    "\n",
    "* 📩 Submit your work in pairs by the end of the class.\n",
    "* 📖 The first exercise will help you understand packages and modules, preparing you for the next one. \n",
    "* 🗂️ Compress the following files and folders: `Jupyter notebook`, `utils`, and `data_preparation`.\n",
    "* 📝 Your names should be included in the zip file as follows: `TD5-MonirDucel.zip`\n",
    "* 📧 Make sure to email your work to your Assistant Professor using one of the following addresses:\n",
    "    * fanny.ducel@inria.fr\n",
    "    * nasser-eddine.monir@inria.fr"
   ]
  },
  {
   "cell_type": "markdown",
   "metadata": {},
   "source": [
    "## Exercise 1\n",
    "\n",
    "🎯 The goal of this exercise is to introduce you to creating your first package with two modules. Completing this will prepare you for the next exercise.\n",
    "\n",
    "1. Create a new file named `math_tools.py`, in the same directory as the current notebook (`.ipynb`) file. From now on, we will refer to this file as a Python module.\n",
    "2. Copy the following lines and paste them at the top of the newly created `math_tools.py` file. Modify the information accordingly, including the name and the date.\n",
    "\n",
    "🗒️ **Note**\n",
    "***\n",
    "* These lines are optional but highly recommended as they improve code clarity and maintainability.\n",
    "* Including encoding ensures compatibility with non-ASCII characters, and the module-level docstring provides essential information about the author, date, and purpose for better documentation and collaboration.\n",
    "***"
   ]
  },
  {
   "cell_type": "code",
   "execution_count": null,
   "metadata": {},
   "outputs": [],
   "source": [
    "# -*- coding: utf-8 -*-\n",
    "\n",
    "\"\"\"\n",
    "Author(s): Nasser-eddine Monir, Fanny Ducel. \n",
    "Date: 0000-00-00\n",
    "\n",
    "This module provides basic arithmetic operations, including addition and multiplication.\n",
    "\"\"\""
   ]
  },
  {
   "cell_type": "markdown",
   "metadata": {},
   "source": [
    "3. In `math_tools.py`, create a function called `addition` that return the sum of two variables, `x` and `y`.\n",
    "4. In `math_tools.py`, create a function called `multiplication` that returns the product (multiplication) of two variables, `x` and `y`."
   ]
  },
  {
   "cell_type": "markdown",
   "metadata": {},
   "source": [
    "🗒️ **Note**\n",
    "*** \n",
    "For example, if you want to import the `greet` function from the `messages.py` module, you would do it like this:\n",
    ">```python\n",
    ">    from messages import greet\n",
    "⚠️ Notice that `messages` is referenced without the `.py` extension, and the `greet` function is imported without parentheses.\n",
    "***\n",
    "\n",
    "5. In the jupyter notebook (here), import the functions `addition` and `multiplication` from the `math_tool.py` module."
   ]
  },
  {
   "cell_type": "code",
   "execution_count": 10,
   "metadata": {},
   "outputs": [],
   "source": [
    "# TODO: code me!"
   ]
  },
  {
   "cell_type": "markdown",
   "metadata": {},
   "source": [
    "6. Now that you've imported the module `math_tools` containing the functions we need (`addition` and `multiplication`), let's use them to compute the sum and product of `10` and `20`. Go ahead and execute the code below!"
   ]
  },
  {
   "cell_type": "code",
   "execution_count": 12,
   "metadata": {},
   "outputs": [],
   "source": [
    "# TODO execute me!\n",
    "x = 10\n",
    "y = 20\n",
    "\n",
    "result_1 = addition(x, y)\n",
    "print(f\"The sum of {x} and {y} is {result_1}\")\n",
    "\n",
    "result_2 = multiplication(x, y)\n",
    "print(f\"The product of {x} and {y} is {result_2}\")"
   ]
  },
  {
   "cell_type": "markdown",
   "metadata": {},
   "source": [
    "📝 Summary\n",
    "***\n",
    "* You created a new module called `math_tools.py`.\n",
    "* You added two functions (`addition` and `multiplication`) to the module.\n",
    "* You imported these functions from the module into your Jupyter notebook.\n",
    "* You used the functions in the notebook to compute the sum and product of `10` and `20`.\n",
    "***"
   ]
  },
  {
   "cell_type": "markdown",
   "metadata": {},
   "source": [
    "Let's move on 💪\n",
    "\n",
    "7. Create a new function called `division` in `math_tools.py` that returns the result of dividing two variables, `x` and `y`.\n",
    "8. Import the `division` function just like you did with `addition` and `multiplication`."
   ]
  },
  {
   "cell_type": "code",
   "execution_count": 14,
   "metadata": {},
   "outputs": [],
   "source": [
    "# TODO: code me!"
   ]
  },
  {
   "cell_type": "markdown",
   "metadata": {},
   "source": [
    "🚨 If you encounter a `ImportError: cannot import name 'division' from 'math_tools'` error message, It's totally normal, because you need to restart (or reload) the Python kernel. Let me explain why!\n",
    "\n",
    "🗒️ Note\n",
    "***\n",
    "* When you import a module in Python (e.g., import `math_tools`), Python loads the module into memory and stores it in an internal cache called `sys.modules`.\n",
    "* After the initial import, Python doesn’t reload the module even if the file is changed. This means any modifications (like adding a new function) to the module won’t be reflected in your notebook unless you explicitly reload or restart the kernel.\n",
    "\n",
    "💡 Solutions\n",
    "***\n",
    "You have two options: \n",
    "* Restart the Python kernel, most likely from the top of your notebook. 😉\n",
    "* If you'd prefer not to restart the kernel manually, use the `%autoreload` extension in Jupyter, which will automatically reload the module each time it’s executed, eliminating the need for a kernel restart. \n",
    "***"
   ]
  },
  {
   "cell_type": "markdown",
   "metadata": {},
   "source": [
    "9. Copy the following code into the cell below. Ideally, place this cell at the top of the notebook.\n",
    "\n",
    "    >```python \n",
    "    >   %load_ext autoreload\n",
    "    >   %autoreload 2\n"
   ]
  },
  {
   "cell_type": "code",
   "execution_count": 25,
   "metadata": {},
   "outputs": [],
   "source": [
    "# TODO: code me!"
   ]
  },
  {
   "cell_type": "markdown",
   "metadata": {},
   "source": [
    "10. Re-import the `division` function and use it to divide `20` by `10`."
   ]
  },
  {
   "cell_type": "code",
   "execution_count": null,
   "metadata": {},
   "outputs": [],
   "source": [
    "# TODO: code me!"
   ]
  },
  {
   "cell_type": "markdown",
   "metadata": {},
   "source": [
    "🚀 Since you now know how to create a module with functions, let’s dive into how to create a package 📦 with multiple modules 📄.\n",
    "\n",
    "🗒️ **Note**\n",
    "***\n",
    "A **package** in Python is a collection of modules organized in a directory. It allows you to structure your code into multiple files, making it easier to manage and reuse.\n",
    "***"
   ]
  },
  {
   "cell_type": "markdown",
   "metadata": {},
   "source": [
    "11. Create a folder named `utils` in the same directory as your Jupyter notebook and the `math_tools.py` module. In the future, we'll refer to `utils` as a package.\n",
    "12. Move the `math_tools.my` module into the `utils` package.\n",
    "13. Add a new function called `subtraction` to `math_tools.py` that returns the result of subtracting two variables, `x` and `y`.\n",
    "14. Import the `subtraction` function into your notebook, and use it to subtract `10` from `20`."
   ]
  },
  {
   "cell_type": "code",
   "execution_count": 36,
   "metadata": {},
   "outputs": [],
   "source": [
    "# TODO: code me!"
   ]
  },
  {
   "cell_type": "markdown",
   "metadata": {},
   "source": [
    "🚨 If you encounter a `ImportError: cannot import name 'subtraction' from 'math_tools'` error message, it's because the `math_tools` module has been moved to the `utils` package, and is no longer in the same directory as your notebook.\n",
    "\n",
    "Your current file structure must look like this:\n",
    "> ```\n",
    "> .\n",
    "> ├── Practical-5-M1-Python.ipynb\n",
    "> └── utils\n",
    ">     ├── math_tools.py\n",
    ">     └── text_preprocessing.py\n",
    "> ```\n",
    "\n",
    "In this case, you need to specify both the package and the module when importing. \n",
    "\n",
    "15. Using the format `import <package>.<module>`, reimport the `subtraction` function into your notebook, and use it to subtract `10` from `20`."
   ]
  },
  {
   "cell_type": "code",
   "execution_count": null,
   "metadata": {},
   "outputs": [],
   "source": [
    "# TODO: code me!"
   ]
  },
  {
   "cell_type": "markdown",
   "metadata": {},
   "source": [
    "16. Create a new module named `text_preprocessing` and initialize it with a suitable header, similar to the one used in question 2.\n",
    "17. In the `text_preprocessing` module, create a function named `clean_and_tokenize` that:\n",
    "    * Takes a sentence as input.\n",
    "    * Removes leading and trailing spaces.\n",
    "    * Converts all characters to lowercase.\n",
    "    * Capitalizes the first character of the sentence.\n",
    "    * Splits the sentence into a list of words (tokens).\n",
    "    * Returns the resulting list.\n",
    "18. Import the `clean_and_tokenize` function into your notebook, and use it to test the following sentence: `\"Linguistics and Psychology BOTH explore how the brain processes language, but while linguistics focuses on the STRUCTURE of language, psychology examines the cognitive processes behind it, such as MEMORY and perception in a 3-step model.\"`"
   ]
  },
  {
   "cell_type": "code",
   "execution_count": null,
   "metadata": {},
   "outputs": [],
   "source": [
    "# TODO: code me!"
   ]
  },
  {
   "cell_type": "markdown",
   "metadata": {},
   "source": [
    "19. (Optional) While adding an `__init__.py` file is no longer mandatory in `Python 3`, it's still considered good practice to include it when you want to explicitly define a package. Therefore, create a file named `__init__.py` in the utils package.\n",
    "\n",
    "📝 Summary\n",
    "***\n",
    "* You created your first package, `utils`, containing two modules: `math_tools.py` and `text_preprocessing.py`.\n",
    "* You added functions to both modules.\n",
    "* You successfully imported these functions into your Jupyter notebook from their respective modules.\n",
    "***"
   ]
  },
  {
   "cell_type": "markdown",
   "metadata": {},
   "source": [
    "## Exercise 2\n",
    "\n",
    "1. Create a package named `data_preparation` containing two modules: `files` and `text_preprocessing`.\n",
    "2. In the `files` module, create a function named `get_txt_files` that takes a folder path as input, loops over the folder using `glob`, and concatenates the text from all `.txt` files that starts with `2`. (It's not mandatory, but you can first, retrieve a list of all `.txt` files that starts with `2`, then concatenate the file contents using the `.join()` method.)\n",
    "3. In the `text_preprocessing` module, create a function named `retrieve_tokens` that converts the input `text` to lowercase, removes the skipline character, removes all punctuation using `string.punctuation` (make sure to import the `string` module), and returns a list of `tokens` (words, including numbers).\n",
    "4. In the `text_preprocessing` module, create a function named `token2id` that takes a list of `tokens` and returns a dictionary where each `token` is mapped to a unique `ID`. IDs should start from 1 and go up to the total number of tokens in the list."
   ]
  },
  {
   "cell_type": "markdown",
   "metadata": {},
   "source": [
    "🗒️ **Note**\n",
    "***\n",
    "A wrapper function is a function that calls another function (or more), adding some additional behavior either before or after the original function is executed. It acts as a \"wrapper\" around the core function to extend or modify its functionality without altering the original code. \n",
    "\n",
    "For instance, let's break this down into the following steps:\n",
    "\n",
    "* First, create a function `add` that calculates the sum of two numbers.\n",
    "    >```python\n",
    "    def add(x, y):\n",
    "    >    return x + y```\n",
    "      \n",
    "* Next, create a function `my_func` that asks the user to enter a number, adds a number `k` (given as an argument) to it, and prints the `result`. This function will use the previously defined `add` function to perform the calculation as follows:   \n",
    "\n",
    "    >```python\n",
    "    >def my_func(k):\n",
    "    >    num = int(input(\"Enter a number: \"))\n",
    "    >    result = add(x=num, y=k)\n",
    "    >    print(result)```\n",
    "***\n",
    "\n",
    "5. Finally, in your Jupyter notebook, create a wrapper function named `encoding_transcriptions` that\n",
    "    * takes the path to a folder as input \n",
    "    * uses all the functions from your package `data_preparation` to returns a dictionary mapping tokens to their corresponding IDs."
   ]
  },
  {
   "cell_type": "code",
   "execution_count": null,
   "metadata": {},
   "outputs": [],
   "source": [
    "# TODO: code me!"
   ]
  },
  {
   "cell_type": "markdown",
   "metadata": {},
   "source": [
    "6. Call the `encoding_transcriptions` function, passing the file path for the `data/` folder as an argument."
   ]
  },
  {
   "cell_type": "code",
   "execution_count": null,
   "metadata": {},
   "outputs": [],
   "source": [
    "# TODO: code me!"
   ]
  },
  {
   "cell_type": "markdown",
   "metadata": {},
   "source": [
    "7. Use the `json` package to export the dictionary to the `data/` folder with the filename `encoding.json`."
   ]
  },
  {
   "cell_type": "code",
   "execution_count": null,
   "metadata": {},
   "outputs": [],
   "source": [
    "# TODO: code me!"
   ]
  },
  {
   "cell_type": "markdown",
   "metadata": {},
   "source": [
    "## Exercise 3\n",
    "\n",
    "🗒️ **Note**\n",
    "***\n",
    "* A **NumPy-style docstring** is a structured and well-formatted way of documenting Python code, particularly functions, classes, and modules, that is widely used. The NumPy docstring style makes it easy to describe a function’s purpose, its parameters, return values, and provides examples of usage, which enhances readability and understanding for users.\n",
    "\n",
    "    For example, if you have a function `addition` that sums two numbers, `a` and `b`, you could use the following **NumPy-style docstring**:\n",
    "    > ```python\n",
    "    > def add_numbers(a, b):\n",
    "    >     \"\"\"\n",
    "    >     Add two numbers.\n",
    "    > \n",
    "    >     This function takes two numbers and returns their sum.\n",
    "    > \n",
    "    >     Parameters\n",
    "    >     ----------\n",
    "    >     a : int or float\n",
    "    >         The first number to be added.\n",
    "    >     b : int or float\n",
    "    >         The second number to be added.\n",
    "    > \n",
    "    >     Returns\n",
    "    >     -------\n",
    "    >     int or float\n",
    "    >         The sum of `a` and `b`.\n",
    "    > \n",
    "    >     Examples\n",
    "    >     --------\n",
    "    >     >>> add_numbers(2, 3)\n",
    "    >     5\n",
    "    >     >>> add_numbers(1.5, 2.5)\n",
    "    >     4.0\n",
    "    >     \"\"\"\n",
    "    >     return a + b\n",
    "    ```\n",
    "\n",
    "* **Specifying input and output types in the function signature** refers to the practice of using type hints (also called type annotations) to clearly define the expected data types of a function's parameters (inputs) and the return value (output).\n",
    "\n",
    "\n",
    "    If we use the same `addition` function example and **specify the input and output types in the function signature**, it would look like this:\n",
    "\n",
    "    > ```python\n",
    "    > def add_numbers(a: float, b: float) -> float:\n",
    "    >     \"\"\"\n",
    "    >     Add two numbers.\n",
    "    > \n",
    "    >     This function takes two numbers and returns their sum.\n",
    "    > \n",
    "    >     Parameters\n",
    "    >     ----------\n",
    "    >     a : int or float\n",
    "    >         The first number to be added.\n",
    "    >     b : int or float\n",
    "    >         The second number to be added.\n",
    "    > \n",
    "    >     Returns\n",
    "    >     -------\n",
    "    >     int or float\n",
    "    >         The sum of `a` and `b`.\n",
    "    > \n",
    "    >     Examples\n",
    "    >     --------\n",
    "    >     >>> add_numbers(2, 3)\n",
    "    >     5\n",
    "    >     >>> add_numbers(1.5, 2.5)\n",
    "    >     4.0\n",
    "    >     \"\"\"\n",
    "    >     return a + b\n",
    "    ```\n",
    "\n",
    "\n",
    "Now that you understand how to write **NumPy-style docstrings** and **specify input and output types in function signatures**, apply the same approach to all the functions in the `utils` and `data_preparation` packages."
   ]
  }
 ],
 "metadata": {
  "kernelspec": {
   "display_name": "Python 3 (ipykernel)",
   "language": "python",
   "name": "python3"
  },
  "language_info": {
   "codemirror_mode": {
    "name": "ipython",
    "version": 3
   },
   "file_extension": ".py",
   "mimetype": "text/x-python",
   "name": "python",
   "nbconvert_exporter": "python",
   "pygments_lexer": "ipython3",
   "version": "3.11.9"
  }
 },
 "nbformat": 4,
 "nbformat_minor": 2
}
