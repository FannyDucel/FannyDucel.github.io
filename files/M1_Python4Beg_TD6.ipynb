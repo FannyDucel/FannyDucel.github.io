{
 "cells": [
  {
   "cell_type": "markdown",
   "id": "902c18ef",
   "metadata": {},
   "source": [
    "[Fanny Ducel](https://fannyducel.github.io/) (CC BY-NC-SA) -- 2024\n",
    "\n",
    "Exercises adapted from [Karën Fort](https://members.loria.fr/KFort/) (TD2 and TD4)"
   ]
  },
  {
   "cell_type": "markdown",
   "id": "412ea5ab",
   "metadata": {},
   "source": [
    "Reminder (see [Intro](https://members.loria.fr/KFort/files/fichiers_cours/M1_Python4Beg_Intro_2024.pdf)):\n",
    "* work by **pairs**\n",
    "* **never the same pair**\n",
    "* the work should be finished in class (no homework)\n",
    "\n",
    "* your names should appear in the file name:\n",
    "    * TD6-DucelMonir.ipynb (sometimes, it will be .py)\n",
    "\n",
    "* send your work to **your** teacher by email **at the end of the class**:\n",
    "    * fanny.ducel@inria.fr\n",
    "    * nasser-eddine.monir@inria.fr\n",
    "    \n",
    "Do not forget to (it's part of your grade):\n",
    "* comment your code (not everything, but the choices you make)\n",
    "* test the extreme values (add tests to your code, then comment them out, so that we can see them)\n"
   ]
  },
  {
   "cell_type": "markdown",
   "id": "28f54000",
   "metadata": {},
   "source": [
    "## Ex 1 - Revenge on athletes.csv 🐼\n",
    "\n",
    "Time to take your revenge on the CSV file from TD2, but this time you can and even **should** use Pandas 🐼!\n",
    "\n",
    "Reminder (from TD2): \n",
    "\n",
    "*Karën* found a .csv (comma separated values) file with data about the Olympic games from 1896 to 2016. It contains 271,116 rows and 15 columns, it's real data to play with...\n",
    "\n",
    "Here is what is asked from you:\n",
    "* **You should already have it from TD2, but if not**: Download the file from [here](https://github.com/cstorm125/information_value/blob/master/data/120-years-of-olympic-history-athletes-and-results/athlete_events.csv) and put it **in the same directory as your notebook** (or be sure to give the right path to the file when you open it). \n",
    "* (Read the documentation [here](https://www.kaggle.com/datasets/heesoo37/120-years-of-olympic-history-athletes-and-results)).\n",
    "\n",
    "* Write some code to answer the following questions:\n",
    "    * create a JSON or TXT file containing the names of all the Iranian athletes during the entire period (without duplicates)\n",
    "    * create a JSON or TXT file containing the names of the women who gained medals in 1988 (without duplicates)\n",
    "\n",
    "\n",
    "* Draw a scatter plot of the ages of athletes per year (x = year, y = age) and print the minimum, maximum, mean and median athlete's ages."
   ]
  },
  {
   "cell_type": "code",
   "execution_count": null,
   "id": "f031e233",
   "metadata": {},
   "outputs": [],
   "source": [
    "# TODO"
   ]
  },
  {
   "cell_type": "markdown",
   "id": "28ea4b05",
   "metadata": {},
   "source": [
    "## Ex 2 - Zipf's law (spacy and matplotlib)\n",
    "\n",
    "Zipf's law is a famous phenomenon in NLP and linguistics. It states that, given a big enough corpus in any natural language, the frequency of a word is inversely proportional to its rank in the frequency table. What does this mean, exactly?  \n",
    "* \"the\" represents nearly 7\\% of the *Brown Corpus* whereas almost half of the total vocabulary are **hapax** *(= they appear only once)* \n",
    "* only 135 words are needed to cover half the corpus\n",
    "\n",
    "This generates this typical curve: \n",
    "\n",
    "![Illustration](zipf.png)\n",
    "\n",
    "Src: https://miro.medium.com/v2/resize:fit:6072/1*GTpckiHyFLe04pUMeYDYOg.png\n",
    "\n",
    "Also have a look at [this image](https://zipfslaw.org/wp-content/uploads/2017/10/zipfs-law-curve-https-medium-comasvanevikhow-i-learned-german-in-30-days-df7b7ff85654.jpeg)"
   ]
  },
  {
   "cell_type": "markdown",
   "id": "f232faec",
   "metadata": {},
   "source": [
    "In this exercice, you'll need to generate a plot that represent Zipf's law for lemmas, and a similar plot to see which POS is the most frequent (Part of Speech). Do not hesitate to do it on your native languages *(bonus points for those who work on a language that's not English or French)*. However, as you'll need to use Spacy, make sure that the language you want to work on is supported by Spacy (https://spacy.io/usage/models#_title) and download the smallest available model/pipeline for the language.\n",
    "\n",
    "But before generating the plots, you'll need to:\n",
    "* find and download a file in the language you chose, for example from [The Gutenberg project](https://www.gutenberg.org/ebooks/) (select Advanced Search and download a \"Plain Text UTF-8\" file)\n",
    "* open the file, put it in lowercase and remove the punctuation. Only use the 100000 first characters to make sure it doesn't take too much time to be computed by Spacy *(the code that you'll need to preprocess your file is provided below)*.\n",
    "* use Spacy to tokenize it/lemmatize it/use POS-tagging. \n",
    "* figure out what data structure to use/create to store the info (lemma and their number of occurrences, POS and their number of occurrences)\n",
    "\n",
    "About your plots:\n",
    "* *(bonus)* if you have time, try to make your plots as \"pretty\" as possible!\n",
    "* save the obtained Figures as pdf and add them to the code you send us, as a zip file\n",
    "\n",
    "To give you an idea, your plots should look something like that (hopefully, prettier than that ;)):\n",
    "\n",
    "<img src=\"zipf_fr.png\" alt=\"drawing\" width=\"500\"/>\n",
    "\n",
    "<img src=\"pos_plt.png\" alt=\"drawing\" width=\"500\"/>"
   ]
  },
  {
   "cell_type": "code",
   "execution_count": null,
   "id": "389cb7d6",
   "metadata": {},
   "outputs": [],
   "source": [
    "# TODO\n",
    "\n",
    "# Code to get you started (open and pre-process the file)\n",
    "import spacy\n",
    "import string\n",
    "\n",
    "with open(\"your_text.txt\") as f:\n",
    "    text = f.read()[:100000]\n",
    "    \n",
    "text = text.lower()\n",
    "text = text.translate(str.maketrans('', '', string.punctuation))"
   ]
  }
 ],
 "metadata": {
  "kernelspec": {
   "display_name": "Python 3 (ipykernel)",
   "language": "python",
   "name": "python3"
  },
  "language_info": {
   "codemirror_mode": {
    "name": "ipython",
    "version": 3
   },
   "file_extension": ".py",
   "mimetype": "text/x-python",
   "name": "python",
   "nbconvert_exporter": "python",
   "pygments_lexer": "ipython3",
   "version": "3.11.9"
  }
 },
 "nbformat": 4,
 "nbformat_minor": 5
}
