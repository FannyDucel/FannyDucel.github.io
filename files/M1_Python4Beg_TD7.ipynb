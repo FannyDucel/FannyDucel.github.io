{
 "cells": [
  {
   "cell_type": "markdown",
   "id": "08c23a49",
   "metadata": {},
   "source": [
    "[Fanny Ducel](https://fannyducel.github.io/) (CC BY-NC-SA) -- 2024\n",
    "\n",
    "Exercises adapted from various sources (see CM's sources)"
   ]
  },
  {
   "cell_type": "markdown",
   "id": "37ebecf5",
   "metadata": {},
   "source": [
    "Reminder (see [Intro](https://members.loria.fr/KFort/files/fichiers_cours/M1_Python4Beg_Intro_2024.pdf)):\n",
    "* work by **pairs**\n",
    "* **never the same pair**\n",
    "* the work should be finished in class (no homework)\n",
    "\n",
    "* your names should appear in the file name:\n",
    "    * TD7-DucelMonir.ipynb (sometimes, it will be .py)\n",
    "\n",
    "* send your work to **your** teacher by email **at the end of the class**:\n",
    "    * fanny.ducel@inria.fr\n",
    "    * nasser-eddine.monir@inria.fr\n",
    "    \n",
    "Do not forget to (it's part of your grade):\n",
    "* comment your code (not everything, but the choices you make)\n",
    "* test the extreme values (add tests to your code, then comment them out, so that we can see them)\n"
   ]
  },
  {
   "cell_type": "markdown",
   "id": "272ecf32",
   "metadata": {},
   "source": [
    "Welcome to your **final** TD!\n",
    "\n",
    "The first 3 exercises are related. You'll progressively create different classes that interact with one another."
   ]
  },
  {
   "cell_type": "markdown",
   "id": "0bce1edc",
   "metadata": {},
   "source": [
    "## Ex 1 - Person class\n",
    "\n",
    "Create a Person class. It should contain the following attributes and methods:\n",
    "\n",
    "### Attributes:\n",
    "* name\n",
    "* surname\n",
    "* nationality\n",
    "* date of birth\n",
    "    \n",
    "    \n",
    "###  Methods:\n",
    "* meet: print a sentence that gives the person's name, surname, nationality and date of birth\n",
    "* calculate_age: return the person's age\n",
    "    \n",
    "### Test\n",
    "Then, try your class by creating 2 or 3 instances of person and using the different methods on them.\n",
    "    \n",
    "**TIP**: *Use the datetime library to create the calculate_age method. See the following cell:*"
   ]
  },
  {
   "cell_type": "code",
   "execution_count": 2,
   "id": "487643c7",
   "metadata": {},
   "outputs": [
    {
     "name": "stdout",
     "output_type": "stream",
     "text": [
      "If you are born on 1900-01-01 you are 124 years old\n"
     ]
    }
   ],
   "source": [
    "from datetime import date\n",
    "today = date.today()\n",
    "date_of_birth = date(1900,1,1)\n",
    "print(\"If you are born on\", date_of_birth, \"you are\", today.year - date_of_birth.year, \"years old\")\n",
    "\n",
    "# (Bonus) You can also try to make it more accurate by using the .month and .day attributes...\n",
    "\n",
    "# If you're stuck on this, you can manually enter the year/date without using this library"
   ]
  },
  {
   "cell_type": "code",
   "execution_count": 1,
   "id": "bc9c3a80",
   "metadata": {},
   "outputs": [],
   "source": [
    "# TODO: Create the class \"Person\""
   ]
  },
  {
   "cell_type": "code",
   "execution_count": null,
   "id": "a569fbbf",
   "metadata": {},
   "outputs": [],
   "source": [
    "# TODO: Test the class \"Person\""
   ]
  },
  {
   "cell_type": "markdown",
   "id": "e6d00910",
   "metadata": {},
   "source": [
    "## Ex 2 - Student class\n",
    "\n",
    "Create a Student class, which should **inherit from the Person class** you created in Ex 1. In other words, Student class should be a child class of Person.\n",
    "\n",
    "### It should inherit from:\n",
    "* the *name, surname, nationality and year of birth* attributes from Person.\n",
    "\n",
    "### It should have new specific attributes and methods:\n",
    "\n",
    "* Attributes:\n",
    "    * A student ID\n",
    "    * The master's they are enrolled in\n",
    "    * A list of followed courses (initially empty in the init() function)\n",
    "\n",
    "* Methods:\n",
    "    * enroll: to add a course to the list of followed courses\n",
    "    * drop: to remove a course from the list of followed courses\n",
    "    * view_courses: to see the list of courses that a student follows\n",
    "    \n",
    "    \n",
    "### Test:\n",
    "\n",
    "* Create some Student instances\n",
    "* Use the *calculate_age* and *meet* methods on them\n",
    "* Print their student ID and their master's\n",
    "* Enroll them in different courses, make them drop different courses\n",
    "* View their courses"
   ]
  },
  {
   "cell_type": "code",
   "execution_count": 3,
   "id": "05259308",
   "metadata": {},
   "outputs": [],
   "source": [
    "# TODO: Create the class \"Student\""
   ]
  },
  {
   "cell_type": "code",
   "execution_count": 4,
   "id": "775dca11",
   "metadata": {},
   "outputs": [],
   "source": [
    "# TODO: Test the class \"Student\""
   ]
  },
  {
   "cell_type": "markdown",
   "id": "5bf980ca",
   "metadata": {},
   "source": [
    "## Ex 3 - Course class\n",
    "\n",
    "Finally, let's create a Course class that will interact with the Student class.\n",
    "\n",
    "### Attributes\n",
    "- course title\n",
    "- instructor's name\n",
    "- max number of enrolled students\n",
    "- list of enrolled students\n",
    "\n",
    "\n",
    "### Methods\n",
    "- add_student: to add students to the list of enrolled students **if the max number of enrolled students is not exceeded yet**. It should also enroll the student, using the enroll method from the Student class.\n",
    "- drop_student: drops a student (using the drop method from the Student class) and removes the student from the list\n",
    "- view_enrolled_students: prints the list of enrolled students in the given course\n",
    "- view_remaining_spots: prints the current number of students enrolled and the number of students that could still enroll (The output should look like \"There are X students enrolled in the course entitled Y. There are still Z spots left.\")\n",
    "\n",
    "### Test\n",
    "- Create a Course instance\n",
    "- Add students to the Course\n",
    "- Remove students from the Course\n",
    "- View the list of enrolled students\n",
    "- View the remaining spots"
   ]
  },
  {
   "cell_type": "code",
   "execution_count": 6,
   "id": "10c1b3fb",
   "metadata": {},
   "outputs": [],
   "source": [
    "# TODO: Create the class \"Course\""
   ]
  },
  {
   "cell_type": "code",
   "execution_count": 5,
   "id": "8c10db92",
   "metadata": {},
   "outputs": [],
   "source": [
    "# TODO: Test the class \"Course\""
   ]
  },
  {
   "cell_type": "markdown",
   "id": "e7555f3a",
   "metadata": {},
   "source": [
    "## Ex 4 (bonus) - Shopping cart\n",
    "\n",
    "You probably already used an online store, and added stuff to your shopping cart. Well, now it's your turn to code a Shopping Cart class!\n",
    "\n",
    "* Attributes:\n",
    "    * The only attribute of your cart should be \"items\", a dict (which will be empty at first, in the init function).\n",
    "\n",
    "* Methods:\n",
    "    * add_item: a method to add items to the cart (= to the items attribute). The keys should be the items name, and the values should be the quantity of the desired item.\n",
    "    * remove_item: a method to remove an item from the cart (thanks to the item name).\n",
    "    * calculate_total: a method to return the total to pay (= sum of all the items of the cart).\n",
    "    \n",
    "Then, try your class:\n",
    "* Create a cart instance\n",
    "* Add items to your cart\n",
    "* Print the current items that are in your cart with their prices \n",
    "* Print the total\n",
    "* Remove one item from your cart\n",
    "* Print the new total"
   ]
  },
  {
   "cell_type": "code",
   "execution_count": 8,
   "id": "5ffe3995",
   "metadata": {},
   "outputs": [],
   "source": [
    "# TODO: Create the class \"ShoppingCart\""
   ]
  },
  {
   "cell_type": "code",
   "execution_count": 7,
   "id": "fa455d3e",
   "metadata": {},
   "outputs": [],
   "source": [
    "# TODO: Test the class \"ShoppingCart\""
   ]
  }
 ],
 "metadata": {
  "kernelspec": {
   "display_name": "Python 3 (ipykernel)",
   "language": "python",
   "name": "python3"
  },
  "language_info": {
   "codemirror_mode": {
    "name": "ipython",
    "version": 3
   },
   "file_extension": ".py",
   "mimetype": "text/x-python",
   "name": "python",
   "nbconvert_exporter": "python",
   "pygments_lexer": "ipython3",
   "version": "3.11.9"
  }
 },
 "nbformat": 4,
 "nbformat_minor": 5
}
