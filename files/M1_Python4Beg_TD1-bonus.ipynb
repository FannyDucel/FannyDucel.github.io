{
 "cells": [
  {
   "cell_type": "markdown",
   "id": "c12b7c1d",
   "metadata": {},
   "source": [
    "All the exercises below were translated and adapted from Hee-Soo Choi's labs. (https://hschoi4.github.io/teaching/)"
   ]
  },
  {
   "cell_type": "markdown",
   "id": "73630471",
   "metadata": {},
   "source": [
    "## EX 5 -- Find the longest word\n",
    "\n",
    "### Ex 5.1. -- Two words at a time\n",
    "\n",
    "Write a piece of code that compares the lengths of two words and prints the longest one."
   ]
  },
  {
   "cell_type": "code",
   "execution_count": null,
   "id": "cd5192f2",
   "metadata": {},
   "outputs": [],
   "source": [
    "#TODO Code me!"
   ]
  },
  {
   "cell_type": "markdown",
   "id": "16f795a5",
   "metadata": {},
   "source": [
    "### Ex 5.2. -- Three words at a time\n",
    "\n",
    "Write a piece of code that compares the lengths of **three** words and prints the longest one. Use `and`!\n",
    "\n",
    "*Hint*: You may store the longest word in a variable (initialized as an empty string) and update it after each condition."
   ]
  },
  {
   "cell_type": "code",
   "execution_count": 1,
   "id": "1459719c",
   "metadata": {},
   "outputs": [],
   "source": [
    "#TODO Code me!"
   ]
  },
  {
   "cell_type": "markdown",
   "id": "ae5ba6c9",
   "metadata": {},
   "source": [
    "## Ex 6 -- FizzBuzz\n",
    "\n",
    "Write a piece of code that goes from 1 to x (ask the user for a number) and that:\n",
    "\n",
    "> - prints \"Fizz\" if the number is divisible by 3,\n",
    "\n",
    "> - prints \"Buzz\" if the number is divisible by 5,\n",
    "\n",
    "> - prints ”FizzBuzz” if the number is divisible by 3 and 5"
   ]
  },
  {
   "cell_type": "code",
   "execution_count": 2,
   "id": "bc1f2c4a",
   "metadata": {},
   "outputs": [],
   "source": [
    "#TODO Code me!"
   ]
  },
  {
   "cell_type": "markdown",
   "id": "7b99432c",
   "metadata": {},
   "source": [
    "### FizzBuzz, alternative version\n",
    "\n",
    "Instead of asking the user for a number, ask them if they want to continue after each iteration, and stop when they do not say \"yes\"."
   ]
  },
  {
   "cell_type": "code",
   "execution_count": 9,
   "id": "dcd9f4dd",
   "metadata": {},
   "outputs": [],
   "source": [
    "#TODO Code me! (feel free to re-use some parts from Ex 6)"
   ]
  }
 ],
 "metadata": {
  "kernelspec": {
   "display_name": "Python 3 (ipykernel)",
   "language": "python",
   "name": "python3"
  },
  "language_info": {
   "codemirror_mode": {
    "name": "ipython",
    "version": 3
   },
   "file_extension": ".py",
   "mimetype": "text/x-python",
   "name": "python",
   "nbconvert_exporter": "python",
   "pygments_lexer": "ipython3",
   "version": "3.11.5"
  }
 },
 "nbformat": 4,
 "nbformat_minor": 5
}
